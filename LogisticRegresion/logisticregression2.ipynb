{
 "cells": [
  {
   "attachments": {},
   "cell_type": "markdown",
   "metadata": {},
   "source": [
    "Logistic Regression: (Multi Classification)- Digits"
   ]
  },
  {
   "cell_type": "code",
   "execution_count": 12,
   "metadata": {},
   "outputs": [],
   "source": [
    "import numpy as np\n",
    "import pandas as pd\n",
    "import matplotlib.pyplot as plt\n",
    "from sklearn.linear_model import LogisticRegression\n",
    "from sklearn.model_selection import train_test_split\n",
    "from sklearn.datasets import load_digits"
   ]
  },
  {
   "cell_type": "code",
   "execution_count": 13,
   "metadata": {},
   "outputs": [],
   "source": [
    "digits = load_digits()"
   ]
  },
  {
   "cell_type": "code",
   "execution_count": 14,
   "metadata": {},
   "outputs": [
    {
     "data": {
      "text/plain": [
       "['DESCR', 'data', 'feature_names', 'frame', 'images', 'target', 'target_names']"
      ]
     },
     "execution_count": 14,
     "metadata": {},
     "output_type": "execute_result"
    }
   ],
   "source": [
    "dir(digits)"
   ]
  },
  {
   "cell_type": "code",
   "execution_count": 15,
   "metadata": {},
   "outputs": [
    {
     "data": {
      "text/plain": [
       "<matplotlib.image.AxesImage at 0x7f29e5675e10>"
      ]
     },
     "execution_count": 15,
     "metadata": {},
     "output_type": "execute_result"
    },
    {
     "data": {
      "image/png": "[encoded data removed]",
      "text/plain": [
       "<Figure size 480x480 with 1 Axes>"
      ]
     },
     "metadata": {},
     "output_type": "display_data"
    }
   ],
   "source": [
    "plt.matshow(digits.images[1])"
   ]
  },
  {
   "cell_type": "code",
   "execution_count": 16,
   "metadata": {},
   "outputs": [],
   "source": [
    "X_train, X_test, y_train, y_test = train_test_split(digits.data, digits.target, test_size=0.2)"
   ]
  },
  {
   "cell_type": "code",
   "execution_count": 17,
   "metadata": {},
   "outputs": [],
   "source": [
    "model = LogisticRegression()"
   ]
  },
  {
   "cell_type": "code",
   "execution_count": 18,
   "metadata": {},
   "outputs": [
    {
     "name": "stderr",
     "output_type": "stream",
     "text": [
      "/home/arvind/.local/lib/python3.10/site-packages/sklearn/linear_model/_logistic.py:458: ConvergenceWarning: lbfgs failed to converge (status=1):\n",
      "STOP: TOTAL NO. of ITERATIONS REACHED LIMIT.\n",
      "\n",
      "Increase the number of iterations (max_iter) or scale the data as shown in:\n",
      "    https://scikit-learn.org/stable/modules/preprocessing.html\n",
      "Please also refer to the documentation for alternative solver options:\n",
      "    https://scikit-learn.org/stable/modules/linear_model.html#logistic-regression\n",
      "  n_iter_i = _check_optimize_result(\n"
     ]
    },
    {
     "data": {
      "text/html": [
       "<style>#sk-container-id-1 {color: black;background-color: white;}#sk-container-id-1 pre{padding: 0;}#sk-container-id-1 div.sk-toggleable {background-color: white;}#sk-container-id-1 label.sk-toggleable__label {cursor: pointer;display: block;width: 100%;margin-bottom: 0;padding: 0.3em;box-sizing: border-box;text-align: center;}#sk-container-id-1 label.sk-toggleable__label-arrow:before {content: \"▸\";float: left;margin-right: 0.25em;color: #696969;}#sk-container-id-1 label.sk-toggleable__label-arrow:hover:before {color: black;}#sk-container-id-1 div.sk-estimator:hover label.sk-toggleable__label-arrow:before {color: black;}#sk-container-id-1 div.sk-toggleable__content {max-height: 0;max-width: 0;overflow: hidden;text-align: left;background-color: #f0f8ff;}#sk-container-id-1 div.sk-toggleable__content pre {margin: 0.2em;color: black;border-radius: 0.25em;background-color: #f0f8ff;}#sk-container-id-1 input.sk-toggleable__control:checked~div.sk-toggleable__content {max-height: 200px;max-width: 100%;overflow: auto;}#sk-container-id-1 input.sk-toggleable__control:checked~label.sk-toggleable__label-arrow:before {content: \"▾\";}#sk-container-id-1 div.sk-estimator input.sk-toggleable__control:checked~label.sk-toggleable__label {background-color: #d4ebff;}#sk-container-id-1 div.sk-label input.sk-toggleable__control:checked~label.sk-toggleable__label {background-color: #d4ebff;}#sk-container-id-1 input.sk-hidden--visually {border: 0;clip: rect(1px 1px 1px 1px);clip: rect(1px, 1px, 1px, 1px);height: 1px;margin: -1px;overflow: hidden;padding: 0;position: absolute;width: 1px;}#sk-container-id-1 div.sk-estimator {font-family: monospace;background-color: #f0f8ff;border: 1px dotted black;border-radius: 0.25em;box-sizing: border-box;margin-bottom: 0.5em;}#sk-container-id-1 div.sk-estimator:hover {background-color: #d4ebff;}#sk-container-id-1 div.sk-parallel-item::after {content: \"\";width: 100%;border-bottom: 1px solid gray;flex-grow: 1;}#sk-container-id-1 div.sk-label:hover label.sk-toggleable__label {background-color: #d4ebff;}#sk-container-id-1 div.sk-serial::before {content: \"\";position: absolute;border-left: 1px solid gray;box-sizing: border-box;top: 0;bottom: 0;left: 50%;z-index: 0;}#sk-container-id-1 div.sk-serial {display: flex;flex-direction: column;align-items: center;background-color: white;padding-right: 0.2em;padding-left: 0.2em;position: relative;}#sk-container-id-1 div.sk-item {position: relative;z-index: 1;}#sk-container-id-1 div.sk-parallel {display: flex;align-items: stretch;justify-content: center;background-color: white;position: relative;}#sk-container-id-1 div.sk-item::before, #sk-container-id-1 div.sk-parallel-item::before {content: \"\";position: absolute;border-left: 1px solid gray;box-sizing: border-box;top: 0;bottom: 0;left: 50%;z-index: -1;}#sk-container-id-1 div.sk-parallel-item {display: flex;flex-direction: column;z-index: 1;position: relative;background-color: white;}#sk-container-id-1 div.sk-parallel-item:first-child::after {align-self: flex-end;width: 50%;}#sk-container-id-1 div.sk-parallel-item:last-child::after {align-self: flex-start;width: 50%;}#sk-container-id-1 div.sk-parallel-item:only-child::after {width: 0;}#sk-container-id-1 div.sk-dashed-wrapped {border: 1px dashed gray;margin: 0 0.4em 0.5em 0.4em;box-sizing: border-box;padding-bottom: 0.4em;background-color: white;}#sk-container-id-1 div.sk-label label {font-family: monospace;font-weight: bold;display: inline-block;line-height: 1.2em;}#sk-container-id-1 div.sk-label-container {text-align: center;}#sk-container-id-1 div.sk-container {/* jupyter's `normalize.less` sets `[hidden] { display: none; }` but bootstrap.min.css set `[hidden] { display: none !important; }` so we also need the `!important` here to be able to override the default hidden behavior on the sphinx rendered scikit-learn.org. See: https://github.com/scikit-learn/scikit-learn/issues/21755 */display: inline-block !important;position: relative;}#sk-container-id-1 div.sk-text-repr-fallback {display: none;}</style><div id=\"sk-container-id-1\" class=\"sk-top-container\"><div class=\"sk-text-repr-fallback\"><pre>LogisticRegression()</pre><b>In a Jupyter environment, please rerun this cell to show the HTML representation or trust the notebook. <br />On GitHub, the HTML representation is unable to render, please try loading this page with nbviewer.org.</b></div><div class=\"sk-container\" hidden><div class=\"sk-item\"><div class=\"sk-estimator sk-toggleable\"><input class=\"sk-toggleable__control sk-hidden--visually\" id=\"sk-estimator-id-1\" type=\"checkbox\" checked><label for=\"sk-estimator-id-1\" class=\"sk-toggleable__label sk-toggleable__label-arrow\">LogisticRegression</label><div class=\"sk-toggleable__content\"><pre>LogisticRegression()</pre></div></div></div></div></div>"
      ],
      "text/plain": [
       "LogisticRegression()"
      ]
     },
     "execution_count": 18,
     "metadata": {},
     "output_type": "execute_result"
    }
   ],
   "source": [
    "model.fit(X_train, y_train)"
   ]
  },
  {
   "cell_type": "code",
   "execution_count": 19,
   "metadata": {},
   "outputs": [
    {
     "data": {
      "text/plain": [
       "0.9638888888888889"
      ]
     },
     "execution_count": 19,
     "metadata": {},
     "output_type": "execute_result"
    }
   ],
   "source": [
    "model.score(X_test, y_test)"
   ]
  },
  {
   "cell_type": "code",
   "execution_count": 20,
   "metadata": {},
   "outputs": [
    {
     "data": {
      "text/plain": [
       "array([5, 7, 6, 5, 1, 5, 5, 1, 9, 2, 2, 8, 3, 4, 6, 3, 4, 9, 0, 9, 4, 0,\n",
       "       0, 3, 4, 5, 0, 8, 7, 4, 3, 1, 8, 9, 9, 4, 5, 3, 9, 0, 0, 8, 8, 9,\n",
       "       3, 7, 5, 9, 6, 7, 2, 0, 5, 8, 6, 0, 7, 9, 6, 9, 2, 7, 6, 9, 4, 1,\n",
       "       1, 7, 0, 5, 6, 9, 8, 3, 4, 7, 1, 1, 2, 2, 9, 8, 1, 6, 0, 4, 1, 3,\n",
       "       4, 4, 2, 6, 8, 8, 3, 9, 1, 4, 8, 4, 1, 5, 8, 0, 7, 1, 3, 8, 1, 8,\n",
       "       2, 2, 2, 1, 5, 5, 6, 9, 1, 4, 1, 8, 6, 9, 1, 5, 4, 1, 2, 6, 6, 7,\n",
       "       7, 5, 0, 8, 4, 2, 7, 8, 3, 5, 4, 8, 1, 2, 0, 0, 9, 7, 0, 5, 5, 1,\n",
       "       1, 1, 3, 5, 6, 4, 6, 0, 7, 3, 0, 5, 4, 7, 0, 4, 8, 4, 3, 7, 0, 3,\n",
       "       3, 2, 8, 3, 7, 5, 9, 9, 5, 1, 2, 2, 9, 1, 9, 1, 2, 1, 6, 6, 4, 6,\n",
       "       8, 7, 8, 5, 6, 5, 5, 1, 3, 8, 3, 5, 1, 1, 4, 2, 0, 0, 2, 1, 9, 6,\n",
       "       2, 7, 2, 6, 4, 6, 8, 9, 8, 4, 1, 5, 7, 0, 9, 8, 0, 0, 9, 1, 4, 8,\n",
       "       1, 7, 4, 1, 6, 1, 8, 2, 1, 3, 3, 6, 9, 5, 2, 0, 5, 3, 1, 3, 9, 9,\n",
       "       4, 8, 2, 3, 2, 6, 6, 8, 2, 3, 7, 3, 4, 3, 2, 4, 2, 4, 8, 8, 0, 2,\n",
       "       2, 2, 6, 5, 5, 2, 3, 3, 6, 2, 2, 5, 2, 9, 0, 1, 7, 5, 4, 6, 1, 8,\n",
       "       1, 9, 5, 5, 8, 2, 0, 4, 3, 9, 4, 8, 2, 2, 2, 4, 8, 1, 6, 7, 9, 2,\n",
       "       6, 4, 0, 8, 1, 3, 1, 4, 6, 2, 4, 3, 8, 7, 0, 9, 5, 2, 1, 5, 6, 0,\n",
       "       0, 5, 9, 6, 4, 6, 7, 1])"
      ]
     },
     "execution_count": 20,
     "metadata": {},
     "output_type": "execute_result"
    }
   ],
   "source": [
    "y_test"
   ]
  },
  {
   "cell_type": "code",
   "execution_count": 21,
   "metadata": {},
   "outputs": [
    {
     "data": {
      "text/plain": [
       "array([5, 7, 6, 9, 1, 5, 5, 1, 9, 2, 2, 8, 3, 4, 6, 3, 4, 9, 0, 9, 4, 0,\n",
       "       0, 3, 4, 5, 0, 4, 7, 4, 3, 1, 8, 9, 9, 4, 8, 3, 9, 0, 0, 8, 8, 9,\n",
       "       3, 7, 5, 9, 6, 7, 2, 0, 5, 8, 6, 0, 7, 8, 6, 9, 2, 9, 6, 9, 4, 1,\n",
       "       1, 7, 0, 5, 6, 9, 8, 3, 4, 7, 1, 1, 2, 2, 9, 8, 1, 6, 0, 4, 1, 3,\n",
       "       4, 4, 2, 6, 8, 8, 3, 9, 1, 4, 8, 4, 1, 5, 8, 0, 7, 1, 3, 8, 1, 8,\n",
       "       2, 2, 2, 1, 5, 5, 6, 9, 1, 4, 3, 8, 6, 9, 1, 5, 4, 1, 2, 6, 6, 7,\n",
       "       7, 5, 0, 8, 4, 2, 7, 8, 3, 5, 4, 8, 8, 2, 0, 0, 9, 7, 0, 5, 5, 1,\n",
       "       1, 1, 3, 5, 6, 4, 6, 0, 7, 3, 0, 5, 4, 7, 0, 4, 8, 4, 3, 7, 0, 3,\n",
       "       3, 2, 8, 3, 7, 5, 9, 8, 5, 1, 2, 2, 9, 1, 9, 1, 2, 1, 6, 6, 4, 6,\n",
       "       8, 7, 8, 5, 6, 5, 5, 1, 3, 8, 3, 5, 1, 1, 4, 2, 0, 0, 2, 1, 9, 5,\n",
       "       2, 7, 2, 6, 4, 6, 8, 9, 8, 4, 1, 5, 7, 0, 9, 8, 0, 0, 5, 1, 4, 8,\n",
       "       1, 7, 4, 1, 6, 1, 8, 2, 1, 3, 3, 6, 9, 5, 2, 0, 5, 3, 1, 3, 9, 9,\n",
       "       4, 8, 1, 3, 2, 6, 6, 8, 2, 3, 7, 3, 4, 3, 2, 4, 2, 4, 8, 8, 0, 2,\n",
       "       2, 2, 6, 5, 5, 2, 3, 3, 6, 2, 2, 5, 2, 9, 0, 1, 7, 5, 4, 6, 1, 8,\n",
       "       1, 9, 5, 5, 8, 2, 0, 4, 3, 9, 4, 8, 2, 2, 2, 4, 8, 1, 6, 7, 9, 2,\n",
       "       6, 8, 0, 8, 1, 3, 1, 4, 6, 2, 4, 3, 8, 7, 0, 9, 9, 2, 1, 5, 6, 0,\n",
       "       0, 5, 9, 6, 4, 6, 7, 1])"
      ]
     },
     "execution_count": 21,
     "metadata": {},
     "output_type": "execute_result"
    }
   ],
   "source": [
    "model.predict(X_test)"
   ]
  },
  {
   "cell_type": "code",
   "execution_count": 22,
   "metadata": {},
   "outputs": [
    {
     "name": "stdout",
     "output_type": "stream",
     "text": [
      "7\n"
     ]
    },
    {
     "data": {
      "text/plain": [
       "<matplotlib.image.AxesImage at 0x7f29e314dea0>"
      ]
     },
     "execution_count": 22,
     "metadata": {},
     "output_type": "execute_result"
    },
    {
     "data": {
      "image/png": "[encoded data removed]",
      "text/plain": [
       "<Figure size 480x480 with 1 Axes>"
      ]
     },
     "metadata": {},
     "output_type": "display_data"
    }
   ],
   "source": [
    "print(digits.target[81])\n",
    "plt.matshow(digits.images[81])"
   ]
  },
  {
   "cell_type": "code",
   "execution_count": 23,
   "metadata": {},
   "outputs": [
    {
     "data": {
      "text/plain": [
       "array([7])"
      ]
     },
     "execution_count": 23,
     "metadata": {},
     "output_type": "execute_result"
    }
   ],
   "source": [
    "model.predict([digits.data[81]])"
   ]
  }
 ],
 "metadata": {
  "kernelspec": {
   "display_name": "Python 3",
   "language": "python",
   "name": "python3"
  },
  "language_info": {
   "codemirror_mode": {
    "name": "ipython",
    "version": 3
   },
   "file_extension": ".py",
   "mimetype": "text/x-python",
   "name": "python",
   "nbconvert_exporter": "python",
   "pygments_lexer": "ipython3",
   "version": "3.10.6"
  },
  "orig_nbformat": 4
 },
 "nbformat": 4,
 "nbformat_minor": 2
}
