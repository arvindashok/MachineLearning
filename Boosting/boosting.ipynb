{
 "cells": [
  {
   "cell_type": "markdown",
   "metadata": {},
   "source": [
    "Boosting without oversampling"
   ]
  },
  {
   "cell_type": "code",
   "execution_count": 20,
   "metadata": {},
   "outputs": [],
   "source": [
    "import pandas as pd\n",
    "import catboost\n",
    "import xgboost as xgb\n",
    "import lightgbm as lgb\n",
    "from sklearn.model_selection import train_test_split\n",
    "from sklearn.metrics import accuracy_score\n"
   ]
  },
  {
   "cell_type": "code",
   "execution_count": 25,
   "metadata": {},
   "outputs": [
    {
     "name": "stdout",
     "output_type": "stream",
     "text": [
      "   0   1   2   3   4   5   6   7   8   9   10\n",
      "0   1   1   1  13   2   4   2   3   1  12   0\n",
      "1   3  12   3   2   3  11   4   5   2   5   1\n",
      "2   1   9   4   6   1   4   3   2   3   9   1\n",
      "3   1   4   3  13   2  13   2   1   3   6   1\n",
      "4   3  10   2   7   1   2   2  11   4   9   0\n"
     ]
    },
    {
     "data": {
      "text/html": [
       "<div>\n",
       "<style scoped>\n",
       "    .dataframe tbody tr th:only-of-type {\n",
       "        vertical-align: middle;\n",
       "    }\n",
       "\n",
       "    .dataframe tbody tr th {\n",
       "        vertical-align: top;\n",
       "    }\n",
       "\n",
       "    .dataframe thead th {\n",
       "        text-align: right;\n",
       "    }\n",
       "</style>\n",
       "<table border=\"1\" class=\"dataframe\">\n",
       "  <thead>\n",
       "    <tr style=\"text-align: right;\">\n",
       "      <th></th>\n",
       "      <th>0</th>\n",
       "      <th>1</th>\n",
       "      <th>2</th>\n",
       "      <th>3</th>\n",
       "      <th>4</th>\n",
       "      <th>5</th>\n",
       "      <th>6</th>\n",
       "      <th>7</th>\n",
       "      <th>8</th>\n",
       "      <th>9</th>\n",
       "      <th>10</th>\n",
       "    </tr>\n",
       "  </thead>\n",
       "  <tbody>\n",
       "    <tr>\n",
       "      <th>0</th>\n",
       "      <td>1</td>\n",
       "      <td>10</td>\n",
       "      <td>1</td>\n",
       "      <td>11</td>\n",
       "      <td>1</td>\n",
       "      <td>13</td>\n",
       "      <td>1</td>\n",
       "      <td>12</td>\n",
       "      <td>1</td>\n",
       "      <td>1</td>\n",
       "      <td>9</td>\n",
       "    </tr>\n",
       "    <tr>\n",
       "      <th>1</th>\n",
       "      <td>2</td>\n",
       "      <td>11</td>\n",
       "      <td>2</td>\n",
       "      <td>13</td>\n",
       "      <td>2</td>\n",
       "      <td>10</td>\n",
       "      <td>2</td>\n",
       "      <td>12</td>\n",
       "      <td>2</td>\n",
       "      <td>1</td>\n",
       "      <td>9</td>\n",
       "    </tr>\n",
       "    <tr>\n",
       "      <th>2</th>\n",
       "      <td>3</td>\n",
       "      <td>12</td>\n",
       "      <td>3</td>\n",
       "      <td>11</td>\n",
       "      <td>3</td>\n",
       "      <td>13</td>\n",
       "      <td>3</td>\n",
       "      <td>10</td>\n",
       "      <td>3</td>\n",
       "      <td>1</td>\n",
       "      <td>9</td>\n",
       "    </tr>\n",
       "    <tr>\n",
       "      <th>3</th>\n",
       "      <td>4</td>\n",
       "      <td>10</td>\n",
       "      <td>4</td>\n",
       "      <td>11</td>\n",
       "      <td>4</td>\n",
       "      <td>1</td>\n",
       "      <td>4</td>\n",
       "      <td>13</td>\n",
       "      <td>4</td>\n",
       "      <td>12</td>\n",
       "      <td>9</td>\n",
       "    </tr>\n",
       "    <tr>\n",
       "      <th>4</th>\n",
       "      <td>4</td>\n",
       "      <td>1</td>\n",
       "      <td>4</td>\n",
       "      <td>13</td>\n",
       "      <td>4</td>\n",
       "      <td>12</td>\n",
       "      <td>4</td>\n",
       "      <td>11</td>\n",
       "      <td>4</td>\n",
       "      <td>10</td>\n",
       "      <td>9</td>\n",
       "    </tr>\n",
       "  </tbody>\n",
       "</table>\n",
       "</div>"
      ],
      "text/plain": [
       "   0   1   2   3   4   5   6   7   8   9   10\n",
       "0   1  10   1  11   1  13   1  12   1   1   9\n",
       "1   2  11   2  13   2  10   2  12   2   1   9\n",
       "2   3  12   3  11   3  13   3  10   3   1   9\n",
       "3   4  10   4  11   4   1   4  13   4  12   9\n",
       "4   4   1   4  13   4  12   4  11   4  10   9"
      ]
     },
     "execution_count": 25,
     "metadata": {},
     "output_type": "execute_result"
    }
   ],
   "source": [
    "poker_train = pd.read_csv('poker_train.csv', header=None)\n",
    "poker_test = pd.read_csv('poker_test.csv', header=None)\n",
    "print(poker_test.head())\n",
    "poker_train.head()"
   ]
  },
  {
   "cell_type": "code",
   "execution_count": 28,
   "metadata": {},
   "outputs": [
    {
     "ename": "KeyError",
     "evalue": "\"['10'] not found in axis\"",
     "output_type": "error",
     "traceback": [
      "\u001b[1;31m---------------------------------------------------------------------------\u001b[0m",
      "\u001b[1;31mKeyError\u001b[0m                                  Traceback (most recent call last)",
      "Cell \u001b[1;32mIn[28], line 1\u001b[0m\n\u001b[1;32m----> 1\u001b[0m poker_ip \u001b[39m=\u001b[39m poker_train\u001b[39m.\u001b[39;49mdrop(\u001b[39m'\u001b[39;49m\u001b[39m10\u001b[39;49m\u001b[39m'\u001b[39;49m, axis\u001b[39m=\u001b[39;49m\u001b[39m'\u001b[39;49m\u001b[39mcolumns\u001b[39;49m\u001b[39m'\u001b[39;49m)\n\u001b[0;32m      2\u001b[0m poker_op \u001b[39m=\u001b[39m poker_train[[\u001b[39m'\u001b[39m\u001b[39m10\u001b[39m\u001b[39m'\u001b[39m]]\n\u001b[0;32m      3\u001b[0m poker_testip \u001b[39m=\u001b[39m poker_test\u001b[39m.\u001b[39mdrop(\u001b[39m'\u001b[39m\u001b[39m10\u001b[39m\u001b[39m'\u001b[39m, axis\u001b[39m=\u001b[39m\u001b[39m'\u001b[39m\u001b[39mcolumns\u001b[39m\u001b[39m'\u001b[39m)\n",
      "File \u001b[1;32m~\\AppData\\Local\\Packages\\PythonSoftwareFoundation.Python.3.11_qbz5n2kfra8p0\\LocalCache\\local-packages\\Python311\\site-packages\\pandas\\core\\frame.py:5258\u001b[0m, in \u001b[0;36mDataFrame.drop\u001b[1;34m(self, labels, axis, index, columns, level, inplace, errors)\u001b[0m\n\u001b[0;32m   5110\u001b[0m \u001b[39mdef\u001b[39;00m \u001b[39mdrop\u001b[39m(\n\u001b[0;32m   5111\u001b[0m     \u001b[39mself\u001b[39m,\n\u001b[0;32m   5112\u001b[0m     labels: IndexLabel \u001b[39m=\u001b[39m \u001b[39mNone\u001b[39;00m,\n\u001b[1;32m   (...)\u001b[0m\n\u001b[0;32m   5119\u001b[0m     errors: IgnoreRaise \u001b[39m=\u001b[39m \u001b[39m\"\u001b[39m\u001b[39mraise\u001b[39m\u001b[39m\"\u001b[39m,\n\u001b[0;32m   5120\u001b[0m ) \u001b[39m-\u001b[39m\u001b[39m>\u001b[39m DataFrame \u001b[39m|\u001b[39m \u001b[39mNone\u001b[39;00m:\n\u001b[0;32m   5121\u001b[0m \u001b[39m    \u001b[39m\u001b[39m\"\"\"\u001b[39;00m\n\u001b[0;32m   5122\u001b[0m \u001b[39m    Drop specified labels from rows or columns.\u001b[39;00m\n\u001b[0;32m   5123\u001b[0m \n\u001b[1;32m   (...)\u001b[0m\n\u001b[0;32m   5256\u001b[0m \u001b[39m            weight  1.0     0.8\u001b[39;00m\n\u001b[0;32m   5257\u001b[0m \u001b[39m    \"\"\"\u001b[39;00m\n\u001b[1;32m-> 5258\u001b[0m     \u001b[39mreturn\u001b[39;00m \u001b[39msuper\u001b[39;49m()\u001b[39m.\u001b[39;49mdrop(\n\u001b[0;32m   5259\u001b[0m         labels\u001b[39m=\u001b[39;49mlabels,\n\u001b[0;32m   5260\u001b[0m         axis\u001b[39m=\u001b[39;49maxis,\n\u001b[0;32m   5261\u001b[0m         index\u001b[39m=\u001b[39;49mindex,\n\u001b[0;32m   5262\u001b[0m         columns\u001b[39m=\u001b[39;49mcolumns,\n\u001b[0;32m   5263\u001b[0m         level\u001b[39m=\u001b[39;49mlevel,\n\u001b[0;32m   5264\u001b[0m         inplace\u001b[39m=\u001b[39;49minplace,\n\u001b[0;32m   5265\u001b[0m         errors\u001b[39m=\u001b[39;49merrors,\n\u001b[0;32m   5266\u001b[0m     )\n",
      "File \u001b[1;32m~\\AppData\\Local\\Packages\\PythonSoftwareFoundation.Python.3.11_qbz5n2kfra8p0\\LocalCache\\local-packages\\Python311\\site-packages\\pandas\\core\\generic.py:4549\u001b[0m, in \u001b[0;36mNDFrame.drop\u001b[1;34m(self, labels, axis, index, columns, level, inplace, errors)\u001b[0m\n\u001b[0;32m   4547\u001b[0m \u001b[39mfor\u001b[39;00m axis, labels \u001b[39min\u001b[39;00m axes\u001b[39m.\u001b[39mitems():\n\u001b[0;32m   4548\u001b[0m     \u001b[39mif\u001b[39;00m labels \u001b[39mis\u001b[39;00m \u001b[39mnot\u001b[39;00m \u001b[39mNone\u001b[39;00m:\n\u001b[1;32m-> 4549\u001b[0m         obj \u001b[39m=\u001b[39m obj\u001b[39m.\u001b[39;49m_drop_axis(labels, axis, level\u001b[39m=\u001b[39;49mlevel, errors\u001b[39m=\u001b[39;49merrors)\n\u001b[0;32m   4551\u001b[0m \u001b[39mif\u001b[39;00m inplace:\n\u001b[0;32m   4552\u001b[0m     \u001b[39mself\u001b[39m\u001b[39m.\u001b[39m_update_inplace(obj)\n",
      "File \u001b[1;32m~\\AppData\\Local\\Packages\\PythonSoftwareFoundation.Python.3.11_qbz5n2kfra8p0\\LocalCache\\local-packages\\Python311\\site-packages\\pandas\\core\\generic.py:4591\u001b[0m, in \u001b[0;36mNDFrame._drop_axis\u001b[1;34m(self, labels, axis, level, errors, only_slice)\u001b[0m\n\u001b[0;32m   4589\u001b[0m         new_axis \u001b[39m=\u001b[39m axis\u001b[39m.\u001b[39mdrop(labels, level\u001b[39m=\u001b[39mlevel, errors\u001b[39m=\u001b[39merrors)\n\u001b[0;32m   4590\u001b[0m     \u001b[39melse\u001b[39;00m:\n\u001b[1;32m-> 4591\u001b[0m         new_axis \u001b[39m=\u001b[39m axis\u001b[39m.\u001b[39;49mdrop(labels, errors\u001b[39m=\u001b[39;49merrors)\n\u001b[0;32m   4592\u001b[0m     indexer \u001b[39m=\u001b[39m axis\u001b[39m.\u001b[39mget_indexer(new_axis)\n\u001b[0;32m   4594\u001b[0m \u001b[39m# Case for non-unique axis\u001b[39;00m\n\u001b[0;32m   4595\u001b[0m \u001b[39melse\u001b[39;00m:\n",
      "File \u001b[1;32m~\\AppData\\Local\\Packages\\PythonSoftwareFoundation.Python.3.11_qbz5n2kfra8p0\\LocalCache\\local-packages\\Python311\\site-packages\\pandas\\core\\indexes\\base.py:6699\u001b[0m, in \u001b[0;36mIndex.drop\u001b[1;34m(self, labels, errors)\u001b[0m\n\u001b[0;32m   6697\u001b[0m \u001b[39mif\u001b[39;00m mask\u001b[39m.\u001b[39many():\n\u001b[0;32m   6698\u001b[0m     \u001b[39mif\u001b[39;00m errors \u001b[39m!=\u001b[39m \u001b[39m\"\u001b[39m\u001b[39mignore\u001b[39m\u001b[39m\"\u001b[39m:\n\u001b[1;32m-> 6699\u001b[0m         \u001b[39mraise\u001b[39;00m \u001b[39mKeyError\u001b[39;00m(\u001b[39mf\u001b[39m\u001b[39m\"\u001b[39m\u001b[39m{\u001b[39;00m\u001b[39mlist\u001b[39m(labels[mask])\u001b[39m}\u001b[39;00m\u001b[39m not found in axis\u001b[39m\u001b[39m\"\u001b[39m)\n\u001b[0;32m   6700\u001b[0m     indexer \u001b[39m=\u001b[39m indexer[\u001b[39m~\u001b[39mmask]\n\u001b[0;32m   6701\u001b[0m \u001b[39mreturn\u001b[39;00m \u001b[39mself\u001b[39m\u001b[39m.\u001b[39mdelete(indexer)\n",
      "\u001b[1;31mKeyError\u001b[0m: \"['10'] not found in axis\""
     ]
    }
   ],
   "source": [
    "poker_ip = poker_train.drop('10', axis='columns')\n",
    "poker_op = poker_train[['10']]\n",
    "poker_testip = poker_test.drop('10', axis='columns')\n",
    "poker_testop = poker_test[['10']]"
   ]
  },
  {
   "cell_type": "code",
   "execution_count": null,
   "metadata": {},
   "outputs": [
    {
     "name": "stdout",
     "output_type": "stream",
     "text": [
      "0:\tlearn: 1.9995905\ttotal: 22.2ms\tremaining: 2.2s\n",
      "1:\tlearn: 1.8085417\ttotal: 41.9ms\tremaining: 2.06s\n",
      "2:\tlearn: 1.6691180\ttotal: 59.9ms\tremaining: 1.94s\n",
      "3:\tlearn: 1.5607939\ttotal: 76.6ms\tremaining: 1.84s\n",
      "4:\tlearn: 1.4740652\ttotal: 92.8ms\tremaining: 1.76s\n",
      "5:\tlearn: 1.4027117\ttotal: 108ms\tremaining: 1.7s\n",
      "6:\tlearn: 1.3454698\ttotal: 125ms\tremaining: 1.66s\n",
      "7:\tlearn: 1.2945701\ttotal: 140ms\tremaining: 1.61s\n",
      "8:\tlearn: 1.2518978\ttotal: 159ms\tremaining: 1.6s\n",
      "9:\tlearn: 1.2164875\ttotal: 178ms\tremaining: 1.6s\n",
      "10:\tlearn: 1.1848542\ttotal: 195ms\tremaining: 1.58s\n",
      "11:\tlearn: 1.1580122\ttotal: 207ms\tremaining: 1.52s\n",
      "12:\tlearn: 1.1350102\ttotal: 228ms\tremaining: 1.52s\n",
      "13:\tlearn: 1.1149168\ttotal: 246ms\tremaining: 1.51s\n",
      "14:\tlearn: 1.0932573\ttotal: 264ms\tremaining: 1.5s\n",
      "15:\tlearn: 1.0775665\ttotal: 282ms\tremaining: 1.48s\n",
      "16:\tlearn: 1.0597732\ttotal: 332ms\tremaining: 1.62s\n",
      "17:\tlearn: 1.0425430\ttotal: 355ms\tremaining: 1.62s\n",
      "18:\tlearn: 1.0293603\ttotal: 375ms\tremaining: 1.6s\n",
      "19:\tlearn: 1.0179768\ttotal: 393ms\tremaining: 1.57s\n",
      "20:\tlearn: 1.0024116\ttotal: 409ms\tremaining: 1.54s\n",
      "21:\tlearn: 0.9945761\ttotal: 426ms\tremaining: 1.51s\n",
      "22:\tlearn: 0.9812696\ttotal: 442ms\tremaining: 1.48s\n",
      "23:\tlearn: 0.9750659\ttotal: 460ms\tremaining: 1.46s\n",
      "24:\tlearn: 0.9693133\ttotal: 478ms\tremaining: 1.44s\n",
      "25:\tlearn: 0.9585444\ttotal: 495ms\tremaining: 1.41s\n",
      "26:\tlearn: 0.9507930\ttotal: 511ms\tremaining: 1.38s\n",
      "27:\tlearn: 0.9453432\ttotal: 527ms\tremaining: 1.35s\n",
      "28:\tlearn: 0.9391085\ttotal: 543ms\tremaining: 1.33s\n",
      "29:\tlearn: 0.9352931\ttotal: 559ms\tremaining: 1.3s\n",
      "30:\tlearn: 0.9276222\ttotal: 577ms\tremaining: 1.28s\n",
      "31:\tlearn: 0.9211782\ttotal: 595ms\tremaining: 1.26s\n",
      "32:\tlearn: 0.9147642\ttotal: 611ms\tremaining: 1.24s\n",
      "33:\tlearn: 0.9105041\ttotal: 626ms\tremaining: 1.22s\n",
      "34:\tlearn: 0.9051811\ttotal: 641ms\tremaining: 1.19s\n",
      "35:\tlearn: 0.9005806\ttotal: 657ms\tremaining: 1.17s\n",
      "36:\tlearn: 0.8959498\ttotal: 673ms\tremaining: 1.15s\n",
      "37:\tlearn: 0.8917847\ttotal: 689ms\tremaining: 1.12s\n",
      "38:\tlearn: 0.8897375\ttotal: 705ms\tremaining: 1.1s\n",
      "39:\tlearn: 0.8876983\ttotal: 721ms\tremaining: 1.08s\n",
      "40:\tlearn: 0.8826100\ttotal: 736ms\tremaining: 1.06s\n",
      "41:\tlearn: 0.8803221\ttotal: 752ms\tremaining: 1.04s\n",
      "42:\tlearn: 0.8752700\ttotal: 768ms\tremaining: 1.02s\n",
      "43:\tlearn: 0.8714479\ttotal: 783ms\tremaining: 997ms\n",
      "44:\tlearn: 0.8673913\ttotal: 802ms\tremaining: 980ms\n",
      "45:\tlearn: 0.8660581\ttotal: 820ms\tremaining: 963ms\n",
      "46:\tlearn: 0.8647451\ttotal: 838ms\tremaining: 944ms\n",
      "47:\tlearn: 0.8621237\ttotal: 854ms\tremaining: 925ms\n",
      "48:\tlearn: 0.8591244\ttotal: 870ms\tremaining: 906ms\n",
      "49:\tlearn: 0.8568602\ttotal: 887ms\tremaining: 887ms\n",
      "50:\tlearn: 0.8539381\ttotal: 904ms\tremaining: 868ms\n",
      "51:\tlearn: 0.8505351\ttotal: 920ms\tremaining: 849ms\n",
      "52:\tlearn: 0.8489793\ttotal: 934ms\tremaining: 828ms\n",
      "53:\tlearn: 0.8478209\ttotal: 950ms\tremaining: 809ms\n",
      "54:\tlearn: 0.8466669\ttotal: 964ms\tremaining: 789ms\n",
      "55:\tlearn: 0.8425690\ttotal: 979ms\tremaining: 769ms\n",
      "56:\tlearn: 0.8415493\ttotal: 993ms\tremaining: 749ms\n",
      "57:\tlearn: 0.8400916\ttotal: 1.01s\tremaining: 732ms\n",
      "58:\tlearn: 0.8377388\ttotal: 1.02s\tremaining: 713ms\n",
      "59:\tlearn: 0.8350151\ttotal: 1.04s\tremaining: 695ms\n",
      "60:\tlearn: 0.8326936\ttotal: 1.06s\tremaining: 677ms\n",
      "61:\tlearn: 0.8302068\ttotal: 1.07s\tremaining: 659ms\n",
      "62:\tlearn: 0.8292218\ttotal: 1.09s\tremaining: 642ms\n",
      "63:\tlearn: 0.8272963\ttotal: 1.11s\tremaining: 624ms\n",
      "64:\tlearn: 0.8258899\ttotal: 1.12s\tremaining: 606ms\n",
      "65:\tlearn: 0.8247299\ttotal: 1.14s\tremaining: 588ms\n",
      "66:\tlearn: 0.8237132\ttotal: 1.16s\tremaining: 570ms\n",
      "67:\tlearn: 0.8229746\ttotal: 1.17s\tremaining: 552ms\n",
      "68:\tlearn: 0.8212001\ttotal: 1.19s\tremaining: 533ms\n",
      "69:\tlearn: 0.8202872\ttotal: 1.2s\tremaining: 516ms\n",
      "70:\tlearn: 0.8169982\ttotal: 1.22s\tremaining: 497ms\n",
      "71:\tlearn: 0.8160238\ttotal: 1.23s\tremaining: 480ms\n",
      "72:\tlearn: 0.8143697\ttotal: 1.25s\tremaining: 462ms\n",
      "73:\tlearn: 0.8136056\ttotal: 1.26s\tremaining: 443ms\n",
      "74:\tlearn: 0.8130223\ttotal: 1.28s\tremaining: 425ms\n",
      "75:\tlearn: 0.8120030\ttotal: 1.29s\tremaining: 408ms\n",
      "76:\tlearn: 0.8113925\ttotal: 1.31s\tremaining: 390ms\n",
      "77:\tlearn: 0.8104539\ttotal: 1.32s\tremaining: 373ms\n",
      "78:\tlearn: 0.8096280\ttotal: 1.34s\tremaining: 356ms\n",
      "79:\tlearn: 0.8086302\ttotal: 1.35s\tremaining: 338ms\n",
      "80:\tlearn: 0.8058190\ttotal: 1.37s\tremaining: 321ms\n",
      "81:\tlearn: 0.8048142\ttotal: 1.38s\tremaining: 303ms\n",
      "82:\tlearn: 0.8028321\ttotal: 1.4s\tremaining: 286ms\n",
      "83:\tlearn: 0.8012086\ttotal: 1.41s\tremaining: 269ms\n",
      "84:\tlearn: 0.8002146\ttotal: 1.43s\tremaining: 252ms\n",
      "85:\tlearn: 0.7996434\ttotal: 1.45s\tremaining: 235ms\n",
      "86:\tlearn: 0.7980312\ttotal: 1.47s\tremaining: 219ms\n",
      "87:\tlearn: 0.7973159\ttotal: 1.48s\tremaining: 202ms\n",
      "88:\tlearn: 0.7961980\ttotal: 1.5s\tremaining: 186ms\n",
      "89:\tlearn: 0.7951722\ttotal: 1.52s\tremaining: 169ms\n",
      "90:\tlearn: 0.7945497\ttotal: 1.53s\tremaining: 152ms\n",
      "91:\tlearn: 0.7928200\ttotal: 1.55s\tremaining: 135ms\n",
      "92:\tlearn: 0.7919717\ttotal: 1.56s\tremaining: 118ms\n",
      "93:\tlearn: 0.7897703\ttotal: 1.58s\tremaining: 101ms\n",
      "94:\tlearn: 0.7887796\ttotal: 1.59s\tremaining: 84ms\n",
      "95:\tlearn: 0.7874486\ttotal: 1.61s\tremaining: 67.1ms\n",
      "96:\tlearn: 0.7868728\ttotal: 1.63s\tremaining: 50.3ms\n",
      "97:\tlearn: 0.7861481\ttotal: 1.64s\tremaining: 33.5ms\n",
      "98:\tlearn: 0.7854724\ttotal: 1.65s\tremaining: 16.7ms\n",
      "99:\tlearn: 0.7835986\ttotal: 1.67s\tremaining: 0us\n"
     ]
    },
    {
     "data": {
      "text/plain": [
       "<catboost.core.CatBoostClassifier at 0x161b48e3110>"
      ]
     },
     "execution_count": 16,
     "metadata": {},
     "output_type": "execute_result"
    }
   ],
   "source": [
    "cat_features = []\n",
    "cat_model = catboost.CatBoostClassifier(iterations=100, learning_rate=0.1, depth=6, loss_function='MultiClass')\n",
    "cat_model.fit (poker_ip, poker_op, cat_features=cat_features)"
   ]
  },
  {
   "cell_type": "code",
   "execution_count": null,
   "metadata": {},
   "outputs": [
    {
     "ename": "CatBoostError",
     "evalue": "C:/Go_Agent/pipelines/BuildMaster/catboost.git/catboost/libs/data/model_dataset_compatibility.cpp:81: At position 1 should be feature with name 10 (found 1.1).",
     "output_type": "error",
     "traceback": [
      "\u001b[1;31m---------------------------------------------------------------------------\u001b[0m",
      "\u001b[1;31mCatBoostError\u001b[0m                             Traceback (most recent call last)",
      "Cell \u001b[1;32mIn[17], line 1\u001b[0m\n\u001b[1;32m----> 1\u001b[0m cat_pred \u001b[39m=\u001b[39m cat_model\u001b[39m.\u001b[39;49mpredict (poker_testip)\n",
      "File \u001b[1;32m~\\AppData\\Local\\Packages\\PythonSoftwareFoundation.Python.3.11_qbz5n2kfra8p0\\LocalCache\\local-packages\\Python311\\site-packages\\catboost\\core.py:5187\u001b[0m, in \u001b[0;36mCatBoostClassifier.predict\u001b[1;34m(self, data, prediction_type, ntree_start, ntree_end, thread_count, verbose, task_type)\u001b[0m\n\u001b[0;32m   5136\u001b[0m \u001b[39mdef\u001b[39;00m \u001b[39mpredict\u001b[39m(\u001b[39mself\u001b[39m, data, prediction_type\u001b[39m=\u001b[39m\u001b[39m'\u001b[39m\u001b[39mClass\u001b[39m\u001b[39m'\u001b[39m, ntree_start\u001b[39m=\u001b[39m\u001b[39m0\u001b[39m, ntree_end\u001b[39m=\u001b[39m\u001b[39m0\u001b[39m, thread_count\u001b[39m=\u001b[39m\u001b[39m-\u001b[39m\u001b[39m1\u001b[39m, verbose\u001b[39m=\u001b[39m\u001b[39mNone\u001b[39;00m, task_type\u001b[39m=\u001b[39m\u001b[39m\"\u001b[39m\u001b[39mCPU\u001b[39m\u001b[39m\"\u001b[39m):\n\u001b[0;32m   5137\u001b[0m \u001b[39m    \u001b[39m\u001b[39m\"\"\"\u001b[39;00m\n\u001b[0;32m   5138\u001b[0m \u001b[39m    Predict with data.\u001b[39;00m\n\u001b[0;32m   5139\u001b[0m \n\u001b[1;32m   (...)\u001b[0m\n\u001b[0;32m   5185\u001b[0m \u001b[39m              with log probability for every class for each object.\u001b[39;00m\n\u001b[0;32m   5186\u001b[0m \u001b[39m    \"\"\"\u001b[39;00m\n\u001b[1;32m-> 5187\u001b[0m     \u001b[39mreturn\u001b[39;00m \u001b[39mself\u001b[39;49m\u001b[39m.\u001b[39;49m_predict(data, prediction_type, ntree_start, ntree_end, thread_count, verbose, \u001b[39m'\u001b[39;49m\u001b[39mpredict\u001b[39;49m\u001b[39m'\u001b[39;49m, task_type)\n",
      "File \u001b[1;32m~\\AppData\\Local\\Packages\\PythonSoftwareFoundation.Python.3.11_qbz5n2kfra8p0\\LocalCache\\local-packages\\Python311\\site-packages\\catboost\\core.py:2546\u001b[0m, in \u001b[0;36mCatBoost._predict\u001b[1;34m(self, data, prediction_type, ntree_start, ntree_end, thread_count, verbose, parent_method_name, task_type)\u001b[0m\n\u001b[0;32m   2543\u001b[0m data, data_is_single_object \u001b[39m=\u001b[39m \u001b[39mself\u001b[39m\u001b[39m.\u001b[39m_process_predict_input_data(data, parent_method_name, thread_count)\n\u001b[0;32m   2544\u001b[0m \u001b[39mself\u001b[39m\u001b[39m.\u001b[39m_validate_prediction_type(prediction_type)\n\u001b[1;32m-> 2546\u001b[0m predictions \u001b[39m=\u001b[39m \u001b[39mself\u001b[39;49m\u001b[39m.\u001b[39;49m_base_predict(data, prediction_type, ntree_start, ntree_end, thread_count, verbose, task_type)\n\u001b[0;32m   2547\u001b[0m \u001b[39mreturn\u001b[39;00m predictions[\u001b[39m0\u001b[39m] \u001b[39mif\u001b[39;00m data_is_single_object \u001b[39melse\u001b[39;00m predictions\n",
      "File \u001b[1;32m~\\AppData\\Local\\Packages\\PythonSoftwareFoundation.Python.3.11_qbz5n2kfra8p0\\LocalCache\\local-packages\\Python311\\site-packages\\catboost\\core.py:1813\u001b[0m, in \u001b[0;36m_CatBoostBase._base_predict\u001b[1;34m(self, pool, prediction_type, ntree_start, ntree_end, thread_count, verbose, task_type)\u001b[0m\n\u001b[0;32m   1812\u001b[0m \u001b[39mdef\u001b[39;00m \u001b[39m_base_predict\u001b[39m(\u001b[39mself\u001b[39m, pool, prediction_type, ntree_start, ntree_end, thread_count, verbose, task_type):\n\u001b[1;32m-> 1813\u001b[0m     \u001b[39mreturn\u001b[39;00m \u001b[39mself\u001b[39;49m\u001b[39m.\u001b[39;49m_object\u001b[39m.\u001b[39;49m_base_predict(pool, prediction_type, ntree_start, ntree_end, thread_count, verbose, task_type)\n",
      "File \u001b[1;32m_catboost.pyx:4760\u001b[0m, in \u001b[0;36m_catboost._CatBoost._base_predict\u001b[1;34m()\u001b[0m\n",
      "File \u001b[1;32m_catboost.pyx:4767\u001b[0m, in \u001b[0;36m_catboost._CatBoost._base_predict\u001b[1;34m()\u001b[0m\n",
      "\u001b[1;31mCatBoostError\u001b[0m: C:/Go_Agent/pipelines/BuildMaster/catboost.git/catboost/libs/data/model_dataset_compatibility.cpp:81: At position 1 should be feature with name 10 (found 1.1)."
     ]
    }
   ],
   "source": [
    "cat_pred = cat_model.predict(poker_testip)"
   ]
  }
 ],
 "metadata": {
  "kernelspec": {
   "display_name": "Python 3",
   "language": "python",
   "name": "python3"
  },
  "language_info": {
   "codemirror_mode": {
    "name": "ipython",
    "version": 3
   },
   "file_extension": ".py",
   "mimetype": "text/x-python",
   "name": "python",
   "nbconvert_exporter": "python",
   "pygments_lexer": "ipython3",
   "version": "3.11.4"
  },
  "orig_nbformat": 4
 },
 "nbformat": 4,
 "nbformat_minor": 2
}
