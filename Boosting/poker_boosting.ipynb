{
 "cells": [
  {
   "cell_type": "markdown",
   "metadata": {},
   "source": [
    "Boosting without oversampling"
   ]
  },
  {
   "cell_type": "code",
   "execution_count": 31,
   "metadata": {},
   "outputs": [],
   "source": [
    "import pandas as pd\n",
    "import catboost\n",
    "from xgboost import XGBClassifier\n",
    "from lightgbm import LGBMClassifier\n",
    "from sklearn.model_selection import train_test_split\n",
    "from sklearn.metrics import classification_report, confusion_matrix\n"
   ]
  },
  {
   "cell_type": "code",
   "execution_count": 32,
   "metadata": {},
   "outputs": [
    {
     "name": "stdout",
     "output_type": "stream",
     "text": [
      "   Suit of card #1  Rank of card #1  Suit of card #2  Rank of card #2  \\\n",
      "0                1                1                1               13   \n",
      "1                3               12                3                2   \n",
      "2                1                9                4                6   \n",
      "3                1                4                3               13   \n",
      "4                3               10                2                7   \n",
      "\n",
      "   Suit of card #3  Rank of card #3  Suit of card #4  Rank of card #4  \\\n",
      "0                2                4                2                3   \n",
      "1                3               11                4                5   \n",
      "2                1                4                3                2   \n",
      "3                2               13                2                1   \n",
      "4                1                2                2               11   \n",
      "\n",
      "   Suit of card #5  Rank of card #5  Poker Hand  \n",
      "0                1               12           0  \n",
      "1                2                5           1  \n",
      "2                3                9           1  \n",
      "3                3                6           1  \n",
      "4                4                9           0  \n"
     ]
    },
    {
     "data": {
      "text/html": [
       "<div>\n",
       "<style scoped>\n",
       "    .dataframe tbody tr th:only-of-type {\n",
       "        vertical-align: middle;\n",
       "    }\n",
       "\n",
       "    .dataframe tbody tr th {\n",
       "        vertical-align: top;\n",
       "    }\n",
       "\n",
       "    .dataframe thead th {\n",
       "        text-align: right;\n",
       "    }\n",
       "</style>\n",
       "<table border=\"1\" class=\"dataframe\">\n",
       "  <thead>\n",
       "    <tr style=\"text-align: right;\">\n",
       "      <th></th>\n",
       "      <th>Suit of card #1</th>\n",
       "      <th>Rank of card #1</th>\n",
       "      <th>Suit of card #2</th>\n",
       "      <th>Rank of card #2</th>\n",
       "      <th>Suit of card #3</th>\n",
       "      <th>Rank of card #3</th>\n",
       "      <th>Suit of card #4</th>\n",
       "      <th>Rank of card #4</th>\n",
       "      <th>Suit of card #5</th>\n",
       "      <th>Rank of card #5</th>\n",
       "      <th>Poker Hand</th>\n",
       "    </tr>\n",
       "  </thead>\n",
       "  <tbody>\n",
       "    <tr>\n",
       "      <th>0</th>\n",
       "      <td>1</td>\n",
       "      <td>10</td>\n",
       "      <td>1</td>\n",
       "      <td>11</td>\n",
       "      <td>1</td>\n",
       "      <td>13</td>\n",
       "      <td>1</td>\n",
       "      <td>12</td>\n",
       "      <td>1</td>\n",
       "      <td>1</td>\n",
       "      <td>9</td>\n",
       "    </tr>\n",
       "    <tr>\n",
       "      <th>1</th>\n",
       "      <td>2</td>\n",
       "      <td>11</td>\n",
       "      <td>2</td>\n",
       "      <td>13</td>\n",
       "      <td>2</td>\n",
       "      <td>10</td>\n",
       "      <td>2</td>\n",
       "      <td>12</td>\n",
       "      <td>2</td>\n",
       "      <td>1</td>\n",
       "      <td>9</td>\n",
       "    </tr>\n",
       "    <tr>\n",
       "      <th>2</th>\n",
       "      <td>3</td>\n",
       "      <td>12</td>\n",
       "      <td>3</td>\n",
       "      <td>11</td>\n",
       "      <td>3</td>\n",
       "      <td>13</td>\n",
       "      <td>3</td>\n",
       "      <td>10</td>\n",
       "      <td>3</td>\n",
       "      <td>1</td>\n",
       "      <td>9</td>\n",
       "    </tr>\n",
       "    <tr>\n",
       "      <th>3</th>\n",
       "      <td>4</td>\n",
       "      <td>10</td>\n",
       "      <td>4</td>\n",
       "      <td>11</td>\n",
       "      <td>4</td>\n",
       "      <td>1</td>\n",
       "      <td>4</td>\n",
       "      <td>13</td>\n",
       "      <td>4</td>\n",
       "      <td>12</td>\n",
       "      <td>9</td>\n",
       "    </tr>\n",
       "    <tr>\n",
       "      <th>4</th>\n",
       "      <td>4</td>\n",
       "      <td>1</td>\n",
       "      <td>4</td>\n",
       "      <td>13</td>\n",
       "      <td>4</td>\n",
       "      <td>12</td>\n",
       "      <td>4</td>\n",
       "      <td>11</td>\n",
       "      <td>4</td>\n",
       "      <td>10</td>\n",
       "      <td>9</td>\n",
       "    </tr>\n",
       "  </tbody>\n",
       "</table>\n",
       "</div>"
      ],
      "text/plain": [
       "   Suit of card #1  Rank of card #1  Suit of card #2  Rank of card #2  \\\n",
       "0                1               10                1               11   \n",
       "1                2               11                2               13   \n",
       "2                3               12                3               11   \n",
       "3                4               10                4               11   \n",
       "4                4                1                4               13   \n",
       "\n",
       "   Suit of card #3  Rank of card #3  Suit of card #4  Rank of card #4  \\\n",
       "0                1               13                1               12   \n",
       "1                2               10                2               12   \n",
       "2                3               13                3               10   \n",
       "3                4                1                4               13   \n",
       "4                4               12                4               11   \n",
       "\n",
       "   Suit of card #5  Rank of card #5  Poker Hand  \n",
       "0                1                1           9  \n",
       "1                2                1           9  \n",
       "2                3                1           9  \n",
       "3                4               12           9  \n",
       "4                4               10           9  "
      ]
     },
     "execution_count": 32,
     "metadata": {},
     "output_type": "execute_result"
    }
   ],
   "source": [
    "column_names = [\"Suit of card #1\", \"Rank of card #1\", \"Suit of card #2\", \"Rank of card #2\", \"Suit of card #3\", \"Rank of card #3\", \"Suit of card #4\", \"Rank of card #4\", \"Suit of card #5\", \"Rank of card #5\", \"Poker Hand\"]\n",
    "poker_train = pd.read_csv('poker_train.csv', header=None, names=column_names)\n",
    "poker_test = pd.read_csv('poker_test.csv', header=None, names=column_names)\n",
    "print(poker_test.head())\n",
    "poker_train.head()"
   ]
  },
  {
   "cell_type": "code",
   "execution_count": 33,
   "metadata": {},
   "outputs": [],
   "source": [
    "#train data\n",
    "poker_ip = poker_train.drop('Poker Hand', axis='columns')\n",
    "poker_op = poker_train[['Poker Hand']]\n",
    "#test data\n",
    "poker_testip = poker_test.drop('Poker Hand', axis='columns')\n",
    "poker_testop = poker_test[['Poker Hand']]"
   ]
  },
  {
   "cell_type": "markdown",
   "metadata": {},
   "source": [
    "Cat Boost"
   ]
  },
  {
   "cell_type": "code",
   "execution_count": 34,
   "metadata": {},
   "outputs": [
    {
     "name": "stdout",
     "output_type": "stream",
     "text": [
      "0:\tlearn: 1.9996165\ttotal: 18.1ms\tremaining: 1.79s\n",
      "1:\tlearn: 1.8085867\ttotal: 34.8ms\tremaining: 1.7s\n",
      "2:\tlearn: 1.6691770\ttotal: 50.6ms\tremaining: 1.64s\n",
      "3:\tlearn: 1.5608627\ttotal: 65.5ms\tremaining: 1.57s\n",
      "4:\tlearn: 1.4741428\ttotal: 81.1ms\tremaining: 1.54s\n",
      "5:\tlearn: 1.4027974\ttotal: 96.1ms\tremaining: 1.5s\n",
      "6:\tlearn: 1.3455860\ttotal: 111ms\tremaining: 1.47s\n",
      "7:\tlearn: 1.2961213\ttotal: 126ms\tremaining: 1.45s\n",
      "8:\tlearn: 1.2531179\ttotal: 141ms\tremaining: 1.43s\n",
      "9:\tlearn: 1.2172486\ttotal: 157ms\tremaining: 1.41s\n",
      "10:\tlearn: 1.1856831\ttotal: 171ms\tremaining: 1.38s\n",
      "11:\tlearn: 1.1589271\ttotal: 180ms\tremaining: 1.32s\n",
      "12:\tlearn: 1.1360263\ttotal: 195ms\tremaining: 1.3s\n",
      "13:\tlearn: 1.1160686\ttotal: 211ms\tremaining: 1.3s\n",
      "14:\tlearn: 1.0942570\ttotal: 226ms\tremaining: 1.28s\n",
      "15:\tlearn: 1.0776286\ttotal: 241ms\tremaining: 1.26s\n",
      "16:\tlearn: 1.0597891\ttotal: 257ms\tremaining: 1.25s\n",
      "17:\tlearn: 1.0425900\ttotal: 273ms\tremaining: 1.24s\n",
      "18:\tlearn: 1.0287235\ttotal: 288ms\tremaining: 1.23s\n",
      "19:\tlearn: 1.0176531\ttotal: 302ms\tremaining: 1.21s\n",
      "20:\tlearn: 1.0020587\ttotal: 317ms\tremaining: 1.19s\n",
      "21:\tlearn: 0.9925159\ttotal: 332ms\tremaining: 1.18s\n",
      "22:\tlearn: 0.9792226\ttotal: 348ms\tremaining: 1.17s\n",
      "23:\tlearn: 0.9727515\ttotal: 362ms\tremaining: 1.15s\n",
      "24:\tlearn: 0.9670402\ttotal: 377ms\tremaining: 1.13s\n",
      "25:\tlearn: 0.9562745\ttotal: 392ms\tremaining: 1.11s\n",
      "26:\tlearn: 0.9486652\ttotal: 406ms\tremaining: 1.1s\n",
      "27:\tlearn: 0.9416871\ttotal: 421ms\tremaining: 1.08s\n",
      "28:\tlearn: 0.9368396\ttotal: 436ms\tremaining: 1.07s\n",
      "29:\tlearn: 0.9312899\ttotal: 453ms\tremaining: 1.06s\n",
      "30:\tlearn: 0.9231198\ttotal: 467ms\tremaining: 1.04s\n",
      "31:\tlearn: 0.9167793\ttotal: 482ms\tremaining: 1.02s\n",
      "32:\tlearn: 0.9107860\ttotal: 497ms\tremaining: 1.01s\n",
      "33:\tlearn: 0.9075484\ttotal: 512ms\tremaining: 994ms\n",
      "34:\tlearn: 0.9032846\ttotal: 527ms\tremaining: 979ms\n",
      "35:\tlearn: 0.9008256\ttotal: 542ms\tremaining: 963ms\n",
      "36:\tlearn: 0.8966186\ttotal: 556ms\tremaining: 947ms\n",
      "37:\tlearn: 0.8928265\ttotal: 571ms\tremaining: 932ms\n",
      "38:\tlearn: 0.8905643\ttotal: 586ms\tremaining: 917ms\n",
      "39:\tlearn: 0.8869946\ttotal: 601ms\tremaining: 901ms\n",
      "40:\tlearn: 0.8846785\ttotal: 615ms\tremaining: 885ms\n",
      "41:\tlearn: 0.8828574\ttotal: 631ms\tremaining: 871ms\n",
      "42:\tlearn: 0.8780386\ttotal: 645ms\tremaining: 856ms\n",
      "43:\tlearn: 0.8729162\ttotal: 661ms\tremaining: 841ms\n",
      "44:\tlearn: 0.8703584\ttotal: 676ms\tremaining: 826ms\n",
      "45:\tlearn: 0.8686464\ttotal: 692ms\tremaining: 813ms\n",
      "46:\tlearn: 0.8654817\ttotal: 707ms\tremaining: 797ms\n",
      "47:\tlearn: 0.8641342\ttotal: 724ms\tremaining: 784ms\n",
      "48:\tlearn: 0.8618059\ttotal: 740ms\tremaining: 770ms\n",
      "49:\tlearn: 0.8578752\ttotal: 757ms\tremaining: 757ms\n",
      "50:\tlearn: 0.8560484\ttotal: 772ms\tremaining: 741ms\n",
      "51:\tlearn: 0.8550336\ttotal: 787ms\tremaining: 726ms\n",
      "52:\tlearn: 0.8510978\ttotal: 802ms\tremaining: 711ms\n",
      "53:\tlearn: 0.8506276\ttotal: 812ms\tremaining: 691ms\n",
      "54:\tlearn: 0.8496740\ttotal: 826ms\tremaining: 676ms\n",
      "55:\tlearn: 0.8480396\ttotal: 841ms\tremaining: 661ms\n",
      "56:\tlearn: 0.8468530\ttotal: 856ms\tremaining: 646ms\n",
      "57:\tlearn: 0.8436216\ttotal: 871ms\tremaining: 631ms\n",
      "58:\tlearn: 0.8426941\ttotal: 887ms\tremaining: 616ms\n",
      "59:\tlearn: 0.8416038\ttotal: 903ms\tremaining: 602ms\n",
      "60:\tlearn: 0.8393864\ttotal: 918ms\tremaining: 587ms\n",
      "61:\tlearn: 0.8374871\ttotal: 933ms\tremaining: 572ms\n",
      "62:\tlearn: 0.8358107\ttotal: 948ms\tremaining: 557ms\n",
      "63:\tlearn: 0.8331021\ttotal: 963ms\tremaining: 542ms\n",
      "64:\tlearn: 0.8317480\ttotal: 978ms\tremaining: 527ms\n",
      "65:\tlearn: 0.8306422\ttotal: 993ms\tremaining: 512ms\n",
      "66:\tlearn: 0.8304774\ttotal: 1s\tremaining: 494ms\n",
      "67:\tlearn: 0.8278917\ttotal: 1.02s\tremaining: 479ms\n",
      "68:\tlearn: 0.8269991\ttotal: 1.03s\tremaining: 464ms\n",
      "69:\tlearn: 0.8246823\ttotal: 1.05s\tremaining: 449ms\n",
      "70:\tlearn: 0.8239255\ttotal: 1.06s\tremaining: 434ms\n",
      "71:\tlearn: 0.8229553\ttotal: 1.08s\tremaining: 419ms\n",
      "72:\tlearn: 0.8218988\ttotal: 1.09s\tremaining: 404ms\n",
      "73:\tlearn: 0.8211703\ttotal: 1.11s\tremaining: 389ms\n",
      "74:\tlearn: 0.8202201\ttotal: 1.12s\tremaining: 374ms\n",
      "75:\tlearn: 0.8195082\ttotal: 1.14s\tremaining: 359ms\n",
      "76:\tlearn: 0.8189002\ttotal: 1.15s\tremaining: 345ms\n",
      "77:\tlearn: 0.8178574\ttotal: 1.17s\tremaining: 330ms\n",
      "78:\tlearn: 0.8172906\ttotal: 1.18s\tremaining: 315ms\n",
      "79:\tlearn: 0.8164240\ttotal: 1.2s\tremaining: 300ms\n",
      "80:\tlearn: 0.8156738\ttotal: 1.21s\tremaining: 285ms\n",
      "81:\tlearn: 0.8136586\ttotal: 1.23s\tremaining: 270ms\n",
      "82:\tlearn: 0.8116651\ttotal: 1.25s\tremaining: 255ms\n",
      "83:\tlearn: 0.8085916\ttotal: 1.26s\tremaining: 240ms\n",
      "84:\tlearn: 0.8077679\ttotal: 1.28s\tremaining: 225ms\n",
      "85:\tlearn: 0.8071744\ttotal: 1.29s\tremaining: 210ms\n",
      "86:\tlearn: 0.8065722\ttotal: 1.3s\tremaining: 195ms\n",
      "87:\tlearn: 0.8052126\ttotal: 1.32s\tremaining: 180ms\n",
      "88:\tlearn: 0.8030032\ttotal: 1.33s\tremaining: 165ms\n",
      "89:\tlearn: 0.8014247\ttotal: 1.35s\tremaining: 150ms\n",
      "90:\tlearn: 0.8008045\ttotal: 1.36s\tremaining: 135ms\n",
      "91:\tlearn: 0.8001207\ttotal: 1.38s\tremaining: 120ms\n",
      "92:\tlearn: 0.7981114\ttotal: 1.39s\tremaining: 105ms\n",
      "93:\tlearn: 0.7975499\ttotal: 1.41s\tremaining: 89.9ms\n",
      "94:\tlearn: 0.7959402\ttotal: 1.42s\tremaining: 74.9ms\n",
      "95:\tlearn: 0.7940561\ttotal: 1.44s\tremaining: 59.9ms\n",
      "96:\tlearn: 0.7923953\ttotal: 1.45s\tremaining: 44.9ms\n",
      "97:\tlearn: 0.7916264\ttotal: 1.47s\tremaining: 30ms\n",
      "98:\tlearn: 0.7907309\ttotal: 1.48s\tremaining: 15ms\n",
      "99:\tlearn: 0.7895558\ttotal: 1.5s\tremaining: 0us\n"
     ]
    },
    {
     "data": {
      "text/plain": [
       "<catboost.core.CatBoostClassifier at 0x287870d4b90>"
      ]
     },
     "execution_count": 34,
     "metadata": {},
     "output_type": "execute_result"
    }
   ],
   "source": [
    "cat_features = []\n",
    "cat_model = catboost.CatBoostClassifier(iterations=100, learning_rate=0.1, depth=6, loss_function='MultiClass')\n",
    "cat_model.fit (poker_ip, poker_op, cat_features=cat_features)"
   ]
  },
  {
   "cell_type": "code",
   "execution_count": 35,
   "metadata": {},
   "outputs": [],
   "source": [
    "cat_pred = cat_model.predict(poker_testip)"
   ]
  },
  {
   "cell_type": "code",
   "execution_count": 36,
   "metadata": {},
   "outputs": [
    {
     "name": "stderr",
     "output_type": "stream",
     "text": [
      "C:\\Users\\arvin\\AppData\\Local\\Packages\\PythonSoftwareFoundation.Python.3.11_qbz5n2kfra8p0\\LocalCache\\local-packages\\Python311\\site-packages\\sklearn\\metrics\\_classification.py:1469: UndefinedMetricWarning: Recall and F-score are ill-defined and being set to 0.0 in labels with no true samples. Use `zero_division` parameter to control this behavior.\n",
      "  _warn_prf(average, modifier, msg_start, len(result))\n",
      "C:\\Users\\arvin\\AppData\\Local\\Packages\\PythonSoftwareFoundation.Python.3.11_qbz5n2kfra8p0\\LocalCache\\local-packages\\Python311\\site-packages\\sklearn\\metrics\\_classification.py:1469: UndefinedMetricWarning: Recall and F-score are ill-defined and being set to 0.0 in labels with no true samples. Use `zero_division` parameter to control this behavior.\n",
      "  _warn_prf(average, modifier, msg_start, len(result))\n"
     ]
    },
    {
     "name": "stdout",
     "output_type": "stream",
     "text": [
      "Classification Report:\n",
      "               precision    recall  f1-score   support\n",
      "\n",
      "           0       0.83      0.65      0.73    642089\n",
      "           1       0.51      0.60      0.55    356845\n",
      "           2       0.01      0.60      0.02       665\n",
      "           3       0.02      0.89      0.03       401\n",
      "           4       0.00      0.00      0.00         0\n",
      "           5       0.00      0.00      0.00         0\n",
      "           6       0.00      0.00      0.00         0\n",
      "           7       0.00      0.00      0.00         0\n",
      "           8       0.00      0.00      0.00         0\n",
      "           9       0.00      0.00      0.00         0\n",
      "\n",
      "    accuracy                           0.63   1000000\n",
      "   macro avg       0.14      0.27      0.13   1000000\n",
      "weighted avg       0.71      0.63      0.66   1000000\n",
      "\n",
      "Confusion Matrix:\n",
      " [[416168 208072  11520   4247    194   1827     53      5      0      3]\n",
      " [ 85041 214302  35700  16451   3691    169   1276    203     12      0]\n",
      " [     0    123    402     65      0      0     60     15      0      0]\n",
      " [     0      1      0    358      0      0     35      7      0      0]\n",
      " [     0      0      0      0      0      0      0      0      0      0]\n",
      " [     0      0      0      0      0      0      0      0      0      0]\n",
      " [     0      0      0      0      0      0      0      0      0      0]\n",
      " [     0      0      0      0      0      0      0      0      0      0]\n",
      " [     0      0      0      0      0      0      0      0      0      0]\n",
      " [     0      0      0      0      0      0      0      0      0      0]]\n"
     ]
    },
    {
     "name": "stderr",
     "output_type": "stream",
     "text": [
      "C:\\Users\\arvin\\AppData\\Local\\Packages\\PythonSoftwareFoundation.Python.3.11_qbz5n2kfra8p0\\LocalCache\\local-packages\\Python311\\site-packages\\sklearn\\metrics\\_classification.py:1469: UndefinedMetricWarning: Recall and F-score are ill-defined and being set to 0.0 in labels with no true samples. Use `zero_division` parameter to control this behavior.\n",
      "  _warn_prf(average, modifier, msg_start, len(result))\n"
     ]
    }
   ],
   "source": [
    "report = classification_report(cat_pred, poker_testop)\n",
    "confusion = confusion_matrix(cat_pred, poker_testop)\n",
    "print(\"Classification Report:\\n\", report)\n",
    "print(\"Confusion Matrix:\\n\", confusion)"
   ]
  },
  {
   "cell_type": "markdown",
   "metadata": {},
   "source": [
    "Light Boost"
   ]
  },
  {
   "cell_type": "code",
   "execution_count": 37,
   "metadata": {},
   "outputs": [],
   "source": [
    "light_model = LGBMClassifier(learning_rate=0.1, n_estimators=100, max_depth=6, objective='multiclass')\n"
   ]
  },
  {
   "cell_type": "code",
   "execution_count": 38,
   "metadata": {},
   "outputs": [
    {
     "name": "stderr",
     "output_type": "stream",
     "text": [
      "C:\\Users\\arvin\\AppData\\Local\\Packages\\PythonSoftwareFoundation.Python.3.11_qbz5n2kfra8p0\\LocalCache\\local-packages\\Python311\\site-packages\\sklearn\\preprocessing\\_label.py:97: DataConversionWarning: A column-vector y was passed when a 1d array was expected. Please change the shape of y to (n_samples, ), for example using ravel().\n",
      "  y = column_or_1d(y, warn=True)\n",
      "C:\\Users\\arvin\\AppData\\Local\\Packages\\PythonSoftwareFoundation.Python.3.11_qbz5n2kfra8p0\\LocalCache\\local-packages\\Python311\\site-packages\\sklearn\\preprocessing\\_label.py:132: DataConversionWarning: A column-vector y was passed when a 1d array was expected. Please change the shape of y to (n_samples, ), for example using ravel().\n",
      "  y = column_or_1d(y, dtype=self.classes_.dtype, warn=True)\n"
     ]
    },
    {
     "name": "stdout",
     "output_type": "stream",
     "text": [
      "[LightGBM] [Warning] Accuracy may be bad since you didn't explicitly set num_leaves OR 2^max_depth > num_leaves. (num_leaves=31).\n",
      "[LightGBM] [Warning] Found whitespace in feature_names, replace with underlines\n",
      "[LightGBM] [Warning] Accuracy may be bad since you didn't explicitly set num_leaves OR 2^max_depth > num_leaves. (num_leaves=31).\n",
      "[LightGBM] [Warning] Auto-choosing row-wise multi-threading, the overhead of testing was 0.000307 seconds.\n",
      "You can set `force_row_wise=true` to remove the overhead.\n",
      "And if memory is not enough, you can set `force_col_wise=true`.\n",
      "[LightGBM] [Info] Total Bins 95\n",
      "[LightGBM] [Info] Number of data points in the train set: 25010, number of used features: 10\n",
      "[LightGBM] [Info] Start training from score -0.694107\n",
      "[LightGBM] [Info] Start training from score -0.858516\n",
      "[LightGBM] [Info] Start training from score -3.031967\n",
      "[LightGBM] [Info] Start training from score -3.886755\n",
      "[LightGBM] [Info] Start training from score -5.594432\n",
      "[LightGBM] [Info] Start training from score -6.138047\n",
      "[LightGBM] [Info] Start training from score -6.543512\n",
      "[LightGBM] [Info] Start training from score -8.335272\n",
      "[LightGBM] [Info] Start training from score -8.517593\n",
      "[LightGBM] [Info] Start training from score -8.517593\n",
      "[LightGBM] [Warning] No further splits with positive gain, best gain: -inf\n",
      "[LightGBM] [Warning] No further splits with positive gain, best gain: -inf\n",
      "[LightGBM] [Warning] No further splits with positive gain, best gain: -inf\n",
      "[LightGBM] [Warning] No further splits with positive gain, best gain: -inf\n",
      "[LightGBM] [Warning] No further splits with positive gain, best gain: -inf\n",
      "[LightGBM] [Warning] No further splits with positive gain, best gain: -inf\n",
      "[LightGBM] [Warning] No further splits with positive gain, best gain: -inf\n",
      "[LightGBM] [Warning] No further splits with positive gain, best gain: -inf\n",
      "[LightGBM] [Warning] No further splits with positive gain, best gain: -inf\n",
      "[LightGBM] [Warning] No further splits with positive gain, best gain: -inf\n",
      "[LightGBM] [Warning] No further splits with positive gain, best gain: -inf\n",
      "[LightGBM] [Warning] No further splits with positive gain, best gain: -inf\n",
      "[LightGBM] [Warning] No further splits with positive gain, best gain: -inf\n",
      "[LightGBM] [Warning] No further splits with positive gain, best gain: -inf\n",
      "[LightGBM] [Warning] No further splits with positive gain, best gain: -inf\n",
      "[LightGBM] [Warning] No further splits with positive gain, best gain: -inf\n",
      "[LightGBM] [Warning] No further splits with positive gain, best gain: -inf\n",
      "[LightGBM] [Warning] No further splits with positive gain, best gain: -inf\n",
      "[LightGBM] [Warning] No further splits with positive gain, best gain: -inf\n",
      "[LightGBM] [Warning] No further splits with positive gain, best gain: -inf\n",
      "[LightGBM] [Warning] No further splits with positive gain, best gain: -inf\n",
      "[LightGBM] [Warning] No further splits with positive gain, best gain: -inf\n",
      "[LightGBM] [Warning] No further splits with positive gain, best gain: -inf\n",
      "[LightGBM] [Warning] No further splits with positive gain, best gain: -inf\n",
      "[LightGBM] [Warning] No further splits with positive gain, best gain: -inf\n",
      "[LightGBM] [Warning] No further splits with positive gain, best gain: -inf\n",
      "[LightGBM] [Warning] No further splits with positive gain, best gain: -inf\n",
      "[LightGBM] [Warning] No further splits with positive gain, best gain: -inf\n",
      "[LightGBM] [Warning] No further splits with positive gain, best gain: -inf\n",
      "[LightGBM] [Warning] No further splits with positive gain, best gain: -inf\n",
      "[LightGBM] [Warning] No further splits with positive gain, best gain: -inf\n",
      "[LightGBM] [Warning] No further splits with positive gain, best gain: -inf\n",
      "[LightGBM] [Warning] No further splits with positive gain, best gain: -inf\n",
      "[LightGBM] [Warning] No further splits with positive gain, best gain: -inf\n",
      "[LightGBM] [Warning] No further splits with positive gain, best gain: -inf\n",
      "[LightGBM] [Warning] No further splits with positive gain, best gain: -inf\n",
      "[LightGBM] [Warning] No further splits with positive gain, best gain: -inf\n",
      "[LightGBM] [Warning] No further splits with positive gain, best gain: -inf\n",
      "[LightGBM] [Warning] No further splits with positive gain, best gain: -inf\n",
      "[LightGBM] [Warning] No further splits with positive gain, best gain: -inf\n",
      "[LightGBM] [Warning] No further splits with positive gain, best gain: -inf\n",
      "[LightGBM] [Warning] No further splits with positive gain, best gain: -inf\n",
      "[LightGBM] [Warning] No further splits with positive gain, best gain: -inf\n",
      "[LightGBM] [Warning] No further splits with positive gain, best gain: -inf\n",
      "[LightGBM] [Warning] No further splits with positive gain, best gain: -inf\n",
      "[LightGBM] [Warning] No further splits with positive gain, best gain: -inf\n",
      "[LightGBM] [Warning] No further splits with positive gain, best gain: -inf\n",
      "[LightGBM] [Warning] No further splits with positive gain, best gain: -inf\n",
      "[LightGBM] [Warning] No further splits with positive gain, best gain: -inf\n",
      "[LightGBM] [Warning] No further splits with positive gain, best gain: -inf\n",
      "[LightGBM] [Warning] No further splits with positive gain, best gain: -inf\n",
      "[LightGBM] [Warning] No further splits with positive gain, best gain: -inf\n",
      "[LightGBM] [Warning] No further splits with positive gain, best gain: -inf\n",
      "[LightGBM] [Warning] No further splits with positive gain, best gain: -inf\n",
      "[LightGBM] [Warning] No further splits with positive gain, best gain: -inf\n",
      "[LightGBM] [Warning] No further splits with positive gain, best gain: -inf\n",
      "[LightGBM] [Warning] No further splits with positive gain, best gain: -inf\n",
      "[LightGBM] [Warning] No further splits with positive gain, best gain: -inf\n",
      "[LightGBM] [Warning] No further splits with positive gain, best gain: -inf\n",
      "[LightGBM] [Warning] No further splits with positive gain, best gain: -inf\n",
      "[LightGBM] [Warning] No further splits with positive gain, best gain: -inf\n",
      "[LightGBM] [Warning] No further splits with positive gain, best gain: -inf\n",
      "[LightGBM] [Warning] No further splits with positive gain, best gain: -inf\n",
      "[LightGBM] [Warning] No further splits with positive gain, best gain: -inf\n",
      "[LightGBM] [Warning] No further splits with positive gain, best gain: -inf\n",
      "[LightGBM] [Warning] No further splits with positive gain, best gain: -inf\n",
      "[LightGBM] [Warning] No further splits with positive gain, best gain: -inf\n",
      "[LightGBM] [Warning] No further splits with positive gain, best gain: -inf\n",
      "[LightGBM] [Warning] No further splits with positive gain, best gain: -inf\n",
      "[LightGBM] [Warning] No further splits with positive gain, best gain: -inf\n",
      "[LightGBM] [Warning] No further splits with positive gain, best gain: -inf\n",
      "[LightGBM] [Warning] No further splits with positive gain, best gain: -inf\n",
      "[LightGBM] [Warning] No further splits with positive gain, best gain: -inf\n",
      "[LightGBM] [Warning] No further splits with positive gain, best gain: -inf\n",
      "[LightGBM] [Warning] No further splits with positive gain, best gain: -inf\n",
      "[LightGBM] [Warning] No further splits with positive gain, best gain: -inf\n",
      "[LightGBM] [Warning] No further splits with positive gain, best gain: -inf\n",
      "[LightGBM] [Warning] No further splits with positive gain, best gain: -inf\n",
      "[LightGBM] [Warning] No further splits with positive gain, best gain: -inf\n",
      "[LightGBM] [Warning] No further splits with positive gain, best gain: -inf\n",
      "[LightGBM] [Warning] No further splits with positive gain, best gain: -inf\n",
      "[LightGBM] [Warning] No further splits with positive gain, best gain: -inf\n",
      "[LightGBM] [Warning] No further splits with positive gain, best gain: -inf\n",
      "[LightGBM] [Warning] No further splits with positive gain, best gain: -inf\n",
      "[LightGBM] [Warning] No further splits with positive gain, best gain: -inf\n",
      "[LightGBM] [Warning] No further splits with positive gain, best gain: -inf\n",
      "[LightGBM] [Warning] No further splits with positive gain, best gain: -inf\n",
      "[LightGBM] [Warning] No further splits with positive gain, best gain: -inf\n",
      "[LightGBM] [Warning] No further splits with positive gain, best gain: -inf\n",
      "[LightGBM] [Warning] No further splits with positive gain, best gain: -inf\n",
      "[LightGBM] [Warning] No further splits with positive gain, best gain: -inf\n",
      "[LightGBM] [Warning] No further splits with positive gain, best gain: -inf\n",
      "[LightGBM] [Warning] No further splits with positive gain, best gain: -inf\n",
      "[LightGBM] [Warning] No further splits with positive gain, best gain: -inf\n",
      "[LightGBM] [Warning] No further splits with positive gain, best gain: -inf\n",
      "[LightGBM] [Warning] No further splits with positive gain, best gain: -inf\n",
      "[LightGBM] [Warning] No further splits with positive gain, best gain: -inf\n",
      "[LightGBM] [Warning] No further splits with positive gain, best gain: -inf\n",
      "[LightGBM] [Warning] No further splits with positive gain, best gain: -inf\n",
      "[LightGBM] [Warning] No further splits with positive gain, best gain: -inf\n",
      "[LightGBM] [Warning] No further splits with positive gain, best gain: -inf\n",
      "[LightGBM] [Warning] No further splits with positive gain, best gain: -inf\n",
      "[LightGBM] [Warning] No further splits with positive gain, best gain: -inf\n",
      "[LightGBM] [Warning] No further splits with positive gain, best gain: -inf\n",
      "[LightGBM] [Warning] No further splits with positive gain, best gain: -inf\n",
      "[LightGBM] [Warning] No further splits with positive gain, best gain: -inf\n",
      "[LightGBM] [Warning] No further splits with positive gain, best gain: -inf\n",
      "[LightGBM] [Warning] No further splits with positive gain, best gain: -inf\n"
     ]
    },
    {
     "data": {
      "text/html": [
       "<style>#sk-container-id-3 {color: black;}#sk-container-id-3 pre{padding: 0;}#sk-container-id-3 div.sk-toggleable {background-color: white;}#sk-container-id-3 label.sk-toggleable__label {cursor: pointer;display: block;width: 100%;margin-bottom: 0;padding: 0.3em;box-sizing: border-box;text-align: center;}#sk-container-id-3 label.sk-toggleable__label-arrow:before {content: \"▸\";float: left;margin-right: 0.25em;color: #696969;}#sk-container-id-3 label.sk-toggleable__label-arrow:hover:before {color: black;}#sk-container-id-3 div.sk-estimator:hover label.sk-toggleable__label-arrow:before {color: black;}#sk-container-id-3 div.sk-toggleable__content {max-height: 0;max-width: 0;overflow: hidden;text-align: left;background-color: #f0f8ff;}#sk-container-id-3 div.sk-toggleable__content pre {margin: 0.2em;color: black;border-radius: 0.25em;background-color: #f0f8ff;}#sk-container-id-3 input.sk-toggleable__control:checked~div.sk-toggleable__content {max-height: 200px;max-width: 100%;overflow: auto;}#sk-container-id-3 input.sk-toggleable__control:checked~label.sk-toggleable__label-arrow:before {content: \"▾\";}#sk-container-id-3 div.sk-estimator input.sk-toggleable__control:checked~label.sk-toggleable__label {background-color: #d4ebff;}#sk-container-id-3 div.sk-label input.sk-toggleable__control:checked~label.sk-toggleable__label {background-color: #d4ebff;}#sk-container-id-3 input.sk-hidden--visually {border: 0;clip: rect(1px 1px 1px 1px);clip: rect(1px, 1px, 1px, 1px);height: 1px;margin: -1px;overflow: hidden;padding: 0;position: absolute;width: 1px;}#sk-container-id-3 div.sk-estimator {font-family: monospace;background-color: #f0f8ff;border: 1px dotted black;border-radius: 0.25em;box-sizing: border-box;margin-bottom: 0.5em;}#sk-container-id-3 div.sk-estimator:hover {background-color: #d4ebff;}#sk-container-id-3 div.sk-parallel-item::after {content: \"\";width: 100%;border-bottom: 1px solid gray;flex-grow: 1;}#sk-container-id-3 div.sk-label:hover label.sk-toggleable__label {background-color: #d4ebff;}#sk-container-id-3 div.sk-serial::before {content: \"\";position: absolute;border-left: 1px solid gray;box-sizing: border-box;top: 0;bottom: 0;left: 50%;z-index: 0;}#sk-container-id-3 div.sk-serial {display: flex;flex-direction: column;align-items: center;background-color: white;padding-right: 0.2em;padding-left: 0.2em;position: relative;}#sk-container-id-3 div.sk-item {position: relative;z-index: 1;}#sk-container-id-3 div.sk-parallel {display: flex;align-items: stretch;justify-content: center;background-color: white;position: relative;}#sk-container-id-3 div.sk-item::before, #sk-container-id-3 div.sk-parallel-item::before {content: \"\";position: absolute;border-left: 1px solid gray;box-sizing: border-box;top: 0;bottom: 0;left: 50%;z-index: -1;}#sk-container-id-3 div.sk-parallel-item {display: flex;flex-direction: column;z-index: 1;position: relative;background-color: white;}#sk-container-id-3 div.sk-parallel-item:first-child::after {align-self: flex-end;width: 50%;}#sk-container-id-3 div.sk-parallel-item:last-child::after {align-self: flex-start;width: 50%;}#sk-container-id-3 div.sk-parallel-item:only-child::after {width: 0;}#sk-container-id-3 div.sk-dashed-wrapped {border: 1px dashed gray;margin: 0 0.4em 0.5em 0.4em;box-sizing: border-box;padding-bottom: 0.4em;background-color: white;}#sk-container-id-3 div.sk-label label {font-family: monospace;font-weight: bold;display: inline-block;line-height: 1.2em;}#sk-container-id-3 div.sk-label-container {text-align: center;}#sk-container-id-3 div.sk-container {/* jupyter's `normalize.less` sets `[hidden] { display: none; }` but bootstrap.min.css set `[hidden] { display: none !important; }` so we also need the `!important` here to be able to override the default hidden behavior on the sphinx rendered scikit-learn.org. See: https://github.com/scikit-learn/scikit-learn/issues/21755 */display: inline-block !important;position: relative;}#sk-container-id-3 div.sk-text-repr-fallback {display: none;}</style><div id=\"sk-container-id-3\" class=\"sk-top-container\"><div class=\"sk-text-repr-fallback\"><pre>LGBMClassifier(max_depth=6, objective=&#x27;multiclass&#x27;)</pre><b>In a Jupyter environment, please rerun this cell to show the HTML representation or trust the notebook. <br />On GitHub, the HTML representation is unable to render, please try loading this page with nbviewer.org.</b></div><div class=\"sk-container\" hidden><div class=\"sk-item\"><div class=\"sk-estimator sk-toggleable\"><input class=\"sk-toggleable__control sk-hidden--visually\" id=\"sk-estimator-id-3\" type=\"checkbox\" checked><label for=\"sk-estimator-id-3\" class=\"sk-toggleable__label sk-toggleable__label-arrow\">LGBMClassifier</label><div class=\"sk-toggleable__content\"><pre>LGBMClassifier(max_depth=6, objective=&#x27;multiclass&#x27;)</pre></div></div></div></div></div>"
      ],
      "text/plain": [
       "LGBMClassifier(max_depth=6, objective='multiclass')"
      ]
     },
     "execution_count": 38,
     "metadata": {},
     "output_type": "execute_result"
    }
   ],
   "source": [
    "light_model.fit (poker_ip, poker_op)"
   ]
  },
  {
   "cell_type": "code",
   "execution_count": 39,
   "metadata": {},
   "outputs": [
    {
     "name": "stdout",
     "output_type": "stream",
     "text": [
      "[LightGBM] [Warning] Accuracy may be bad since you didn't explicitly set num_leaves OR 2^max_depth > num_leaves. (num_leaves=31).\n"
     ]
    }
   ],
   "source": [
    "light_pred = light_model.predict(poker_testip)"
   ]
  },
  {
   "cell_type": "code",
   "execution_count": 40,
   "metadata": {},
   "outputs": [
    {
     "name": "stdout",
     "output_type": "stream",
     "text": [
      "Classification Report:\n",
      "               precision    recall  f1-score   support\n",
      "\n",
      "           0       0.77      0.65      0.70    588184\n",
      "           1       0.51      0.58      0.54    370593\n",
      "           2       0.04      0.20      0.07      9493\n",
      "           3       0.05      0.20      0.08      4897\n",
      "           4       0.03      0.03      0.03      3342\n",
      "           5       0.00      0.00      0.00     10176\n",
      "           6       0.01      0.00      0.01      4699\n",
      "           7       0.01      0.00      0.00      4128\n",
      "           8       0.08      0.00      0.00      3414\n",
      "           9       0.00      0.00      0.00      1074\n",
      "\n",
      "    accuracy                           0.60   1000000\n",
      "   macro avg       0.15      0.17      0.14   1000000\n",
      "weighted avg       0.64      0.60      0.62   1000000\n",
      "\n",
      "Confusion Matrix:\n",
      " [[383674 189202   9250   3952    438   1575     81     10      1      1]\n",
      " [102223 214222  34588  14876   3201    265   1060    148      8      2]\n",
      " [  1582   5201   1878    620     22      4    166     20      0      0]\n",
      " [  1102   2206    491    977     12      0     66     43      0      0]\n",
      " [  1083   1721    264    157    102      3      8      3      1      0]\n",
      " [  5180   4253    469    221     32      5     14      2      0      0]\n",
      " [  2193   2044    265    144     13     20     17      2      1      0]\n",
      " [  1799   1919    248    118     30      3      9      2      0      0]\n",
      " [  1779   1318    127     44     30    113      2      0      1      0]\n",
      " [   594    412     42     12      5      8      1      0      0      0]]\n"
     ]
    }
   ],
   "source": [
    "report = classification_report(light_pred, poker_testop)\n",
    "confusion = confusion_matrix(light_pred, poker_testop)\n",
    "print(\"Classification Report:\\n\", report)\n",
    "print(\"Confusion Matrix:\\n\", confusion)"
   ]
  },
  {
   "cell_type": "markdown",
   "metadata": {},
   "source": [
    "Now performing Oversampling"
   ]
  },
  {
   "cell_type": "code",
   "execution_count": 41,
   "metadata": {},
   "outputs": [
    {
     "data": {
      "text/plain": [
       "Poker Hand\n",
       "0             12493\n",
       "1             10599\n",
       "2              1206\n",
       "3               513\n",
       "4                93\n",
       "5                54\n",
       "6                36\n",
       "7                 6\n",
       "8                 5\n",
       "9                 5\n",
       "Name: count, dtype: int64"
      ]
     },
     "execution_count": 41,
     "metadata": {},
     "output_type": "execute_result"
    }
   ],
   "source": [
    "poker_op.value_counts()"
   ]
  },
  {
   "cell_type": "code",
   "execution_count": 42,
   "metadata": {},
   "outputs": [],
   "source": [
    "from imblearn.over_sampling import SMOTE"
   ]
  },
  {
   "cell_type": "code",
   "execution_count": 43,
   "metadata": {},
   "outputs": [],
   "source": [
    "smote = SMOTE(sampling_strategy='minority', k_neighbors=4)"
   ]
  },
  {
   "cell_type": "code",
   "execution_count": 44,
   "metadata": {},
   "outputs": [],
   "source": [
    "X_smt, y_smt = smote.fit_resample(poker_ip, poker_op)"
   ]
  },
  {
   "cell_type": "code",
   "execution_count": 45,
   "metadata": {},
   "outputs": [
    {
     "name": "stdout",
     "output_type": "stream",
     "text": [
      "[LightGBM] [Warning] Accuracy may be bad since you didn't explicitly set num_leaves OR 2^max_depth > num_leaves. (num_leaves=31).\n",
      "[LightGBM] [Warning] Found whitespace in feature_names, replace with underlines\n",
      "[LightGBM] [Warning] Accuracy may be bad since you didn't explicitly set num_leaves OR 2^max_depth > num_leaves. (num_leaves=31).\n",
      "[LightGBM] [Warning] Auto-choosing row-wise multi-threading, the overhead of testing was 0.000541 seconds.\n",
      "You can set `force_row_wise=true` to remove the overhead.\n",
      "And if memory is not enough, you can set `force_col_wise=true`.\n",
      "[LightGBM] [Info] Total Bins 95\n",
      "[LightGBM] [Info] Number of data points in the train set: 37498, number of used features: 10\n",
      "[LightGBM] [Info] Start training from score -1.099119\n",
      "[LightGBM] [Info] Start training from score -1.263528\n",
      "[LightGBM] [Info] Start training from score -3.436978\n",
      "[LightGBM] [Info] Start training from score -4.291767\n",
      "[LightGBM] [Info] Start training from score -5.999443\n",
      "[LightGBM] [Info] Start training from score -6.543059\n",
      "[LightGBM] [Info] Start training from score -6.948524\n",
      "[LightGBM] [Info] Start training from score -8.740283\n",
      "[LightGBM] [Info] Start training from score -1.099119\n",
      "[LightGBM] [Info] Start training from score -8.922605\n",
      "[LightGBM] [Warning] No further splits with positive gain, best gain: -inf\n",
      "[LightGBM] [Warning] No further splits with positive gain, best gain: -inf\n",
      "[LightGBM] [Warning] No further splits with positive gain, best gain: -inf\n"
     ]
    },
    {
     "name": "stderr",
     "output_type": "stream",
     "text": [
      "C:\\Users\\arvin\\AppData\\Local\\Packages\\PythonSoftwareFoundation.Python.3.11_qbz5n2kfra8p0\\LocalCache\\local-packages\\Python311\\site-packages\\sklearn\\preprocessing\\_label.py:97: DataConversionWarning: A column-vector y was passed when a 1d array was expected. Please change the shape of y to (n_samples, ), for example using ravel().\n",
      "  y = column_or_1d(y, warn=True)\n",
      "C:\\Users\\arvin\\AppData\\Local\\Packages\\PythonSoftwareFoundation.Python.3.11_qbz5n2kfra8p0\\LocalCache\\local-packages\\Python311\\site-packages\\sklearn\\preprocessing\\_label.py:132: DataConversionWarning: A column-vector y was passed when a 1d array was expected. Please change the shape of y to (n_samples, ), for example using ravel().\n",
      "  y = column_or_1d(y, dtype=self.classes_.dtype, warn=True)\n"
     ]
    },
    {
     "name": "stdout",
     "output_type": "stream",
     "text": [
      "[LightGBM] [Warning] No further splits with positive gain, best gain: -inf\n",
      "[LightGBM] [Warning] No further splits with positive gain, best gain: -inf\n",
      "[LightGBM] [Warning] No further splits with positive gain, best gain: -inf\n",
      "[LightGBM] [Warning] No further splits with positive gain, best gain: -inf\n",
      "[LightGBM] [Warning] No further splits with positive gain, best gain: -inf\n",
      "[LightGBM] [Warning] No further splits with positive gain, best gain: -inf\n",
      "[LightGBM] [Warning] No further splits with positive gain, best gain: -inf\n",
      "[LightGBM] [Warning] No further splits with positive gain, best gain: -inf\n",
      "[LightGBM] [Warning] No further splits with positive gain, best gain: -inf\n",
      "[LightGBM] [Warning] No further splits with positive gain, best gain: -inf\n",
      "[LightGBM] [Warning] No further splits with positive gain, best gain: -inf\n",
      "[LightGBM] [Warning] No further splits with positive gain, best gain: -inf\n",
      "[LightGBM] [Warning] No further splits with positive gain, best gain: -inf\n",
      "[LightGBM] [Warning] No further splits with positive gain, best gain: -inf\n",
      "[LightGBM] [Warning] No further splits with positive gain, best gain: -inf\n",
      "[LightGBM] [Warning] No further splits with positive gain, best gain: -inf\n",
      "[LightGBM] [Warning] No further splits with positive gain, best gain: -inf\n",
      "[LightGBM] [Warning] No further splits with positive gain, best gain: -inf\n",
      "[LightGBM] [Warning] No further splits with positive gain, best gain: -inf\n",
      "[LightGBM] [Warning] No further splits with positive gain, best gain: -inf\n",
      "[LightGBM] [Warning] No further splits with positive gain, best gain: -inf\n",
      "[LightGBM] [Warning] No further splits with positive gain, best gain: -inf\n",
      "[LightGBM] [Warning] No further splits with positive gain, best gain: -inf\n",
      "[LightGBM] [Warning] No further splits with positive gain, best gain: -inf\n",
      "[LightGBM] [Warning] No further splits with positive gain, best gain: -inf\n",
      "[LightGBM] [Warning] No further splits with positive gain, best gain: -inf\n",
      "[LightGBM] [Warning] No further splits with positive gain, best gain: -inf\n",
      "[LightGBM] [Warning] No further splits with positive gain, best gain: -inf\n",
      "[LightGBM] [Warning] No further splits with positive gain, best gain: -inf\n",
      "[LightGBM] [Warning] No further splits with positive gain, best gain: -inf\n",
      "[LightGBM] [Warning] No further splits with positive gain, best gain: -inf\n",
      "[LightGBM] [Warning] No further splits with positive gain, best gain: -inf\n",
      "[LightGBM] [Warning] No further splits with positive gain, best gain: -inf\n",
      "[LightGBM] [Warning] No further splits with positive gain, best gain: -inf\n",
      "[LightGBM] [Warning] No further splits with positive gain, best gain: -inf\n",
      "[LightGBM] [Warning] No further splits with positive gain, best gain: -inf\n",
      "[LightGBM] [Warning] No further splits with positive gain, best gain: -inf\n",
      "[LightGBM] [Warning] No further splits with positive gain, best gain: -inf\n",
      "[LightGBM] [Warning] No further splits with positive gain, best gain: -inf\n",
      "[LightGBM] [Warning] No further splits with positive gain, best gain: -inf\n",
      "[LightGBM] [Warning] No further splits with positive gain, best gain: -inf\n",
      "[LightGBM] [Warning] No further splits with positive gain, best gain: -inf\n",
      "[LightGBM] [Warning] No further splits with positive gain, best gain: -inf\n",
      "[LightGBM] [Warning] No further splits with positive gain, best gain: -inf\n",
      "[LightGBM] [Warning] No further splits with positive gain, best gain: -inf\n",
      "[LightGBM] [Warning] No further splits with positive gain, best gain: -inf\n",
      "[LightGBM] [Warning] No further splits with positive gain, best gain: -inf\n",
      "[LightGBM] [Warning] No further splits with positive gain, best gain: -inf\n",
      "[LightGBM] [Warning] No further splits with positive gain, best gain: -inf\n",
      "[LightGBM] [Warning] No further splits with positive gain, best gain: -inf\n",
      "[LightGBM] [Warning] No further splits with positive gain, best gain: -inf\n",
      "[LightGBM] [Warning] No further splits with positive gain, best gain: -inf\n",
      "[LightGBM] [Warning] No further splits with positive gain, best gain: -inf\n",
      "[LightGBM] [Warning] No further splits with positive gain, best gain: -inf\n",
      "[LightGBM] [Warning] No further splits with positive gain, best gain: -inf\n",
      "[LightGBM] [Warning] No further splits with positive gain, best gain: -inf\n",
      "[LightGBM] [Warning] No further splits with positive gain, best gain: -inf\n",
      "[LightGBM] [Warning] No further splits with positive gain, best gain: -inf\n",
      "[LightGBM] [Warning] No further splits with positive gain, best gain: -inf\n",
      "[LightGBM] [Warning] No further splits with positive gain, best gain: -inf\n",
      "[LightGBM] [Warning] No further splits with positive gain, best gain: -inf\n",
      "[LightGBM] [Warning] No further splits with positive gain, best gain: -inf\n",
      "[LightGBM] [Warning] No further splits with positive gain, best gain: -inf\n",
      "[LightGBM] [Warning] No further splits with positive gain, best gain: -inf\n",
      "[LightGBM] [Warning] No further splits with positive gain, best gain: -inf\n",
      "[LightGBM] [Warning] No further splits with positive gain, best gain: -inf\n",
      "[LightGBM] [Warning] No further splits with positive gain, best gain: -inf\n",
      "[LightGBM] [Warning] No further splits with positive gain, best gain: -inf\n",
      "[LightGBM] [Warning] No further splits with positive gain, best gain: -inf\n",
      "[LightGBM] [Warning] No further splits with positive gain, best gain: -inf\n",
      "[LightGBM] [Warning] No further splits with positive gain, best gain: -inf\n",
      "[LightGBM] [Warning] No further splits with positive gain, best gain: -inf\n",
      "[LightGBM] [Warning] No further splits with positive gain, best gain: -inf\n",
      "[LightGBM] [Warning] No further splits with positive gain, best gain: -inf\n",
      "[LightGBM] [Warning] No further splits with positive gain, best gain: -inf\n",
      "[LightGBM] [Warning] No further splits with positive gain, best gain: -inf\n"
     ]
    },
    {
     "data": {
      "text/html": [
       "<style>#sk-container-id-4 {color: black;}#sk-container-id-4 pre{padding: 0;}#sk-container-id-4 div.sk-toggleable {background-color: white;}#sk-container-id-4 label.sk-toggleable__label {cursor: pointer;display: block;width: 100%;margin-bottom: 0;padding: 0.3em;box-sizing: border-box;text-align: center;}#sk-container-id-4 label.sk-toggleable__label-arrow:before {content: \"▸\";float: left;margin-right: 0.25em;color: #696969;}#sk-container-id-4 label.sk-toggleable__label-arrow:hover:before {color: black;}#sk-container-id-4 div.sk-estimator:hover label.sk-toggleable__label-arrow:before {color: black;}#sk-container-id-4 div.sk-toggleable__content {max-height: 0;max-width: 0;overflow: hidden;text-align: left;background-color: #f0f8ff;}#sk-container-id-4 div.sk-toggleable__content pre {margin: 0.2em;color: black;border-radius: 0.25em;background-color: #f0f8ff;}#sk-container-id-4 input.sk-toggleable__control:checked~div.sk-toggleable__content {max-height: 200px;max-width: 100%;overflow: auto;}#sk-container-id-4 input.sk-toggleable__control:checked~label.sk-toggleable__label-arrow:before {content: \"▾\";}#sk-container-id-4 div.sk-estimator input.sk-toggleable__control:checked~label.sk-toggleable__label {background-color: #d4ebff;}#sk-container-id-4 div.sk-label input.sk-toggleable__control:checked~label.sk-toggleable__label {background-color: #d4ebff;}#sk-container-id-4 input.sk-hidden--visually {border: 0;clip: rect(1px 1px 1px 1px);clip: rect(1px, 1px, 1px, 1px);height: 1px;margin: -1px;overflow: hidden;padding: 0;position: absolute;width: 1px;}#sk-container-id-4 div.sk-estimator {font-family: monospace;background-color: #f0f8ff;border: 1px dotted black;border-radius: 0.25em;box-sizing: border-box;margin-bottom: 0.5em;}#sk-container-id-4 div.sk-estimator:hover {background-color: #d4ebff;}#sk-container-id-4 div.sk-parallel-item::after {content: \"\";width: 100%;border-bottom: 1px solid gray;flex-grow: 1;}#sk-container-id-4 div.sk-label:hover label.sk-toggleable__label {background-color: #d4ebff;}#sk-container-id-4 div.sk-serial::before {content: \"\";position: absolute;border-left: 1px solid gray;box-sizing: border-box;top: 0;bottom: 0;left: 50%;z-index: 0;}#sk-container-id-4 div.sk-serial {display: flex;flex-direction: column;align-items: center;background-color: white;padding-right: 0.2em;padding-left: 0.2em;position: relative;}#sk-container-id-4 div.sk-item {position: relative;z-index: 1;}#sk-container-id-4 div.sk-parallel {display: flex;align-items: stretch;justify-content: center;background-color: white;position: relative;}#sk-container-id-4 div.sk-item::before, #sk-container-id-4 div.sk-parallel-item::before {content: \"\";position: absolute;border-left: 1px solid gray;box-sizing: border-box;top: 0;bottom: 0;left: 50%;z-index: -1;}#sk-container-id-4 div.sk-parallel-item {display: flex;flex-direction: column;z-index: 1;position: relative;background-color: white;}#sk-container-id-4 div.sk-parallel-item:first-child::after {align-self: flex-end;width: 50%;}#sk-container-id-4 div.sk-parallel-item:last-child::after {align-self: flex-start;width: 50%;}#sk-container-id-4 div.sk-parallel-item:only-child::after {width: 0;}#sk-container-id-4 div.sk-dashed-wrapped {border: 1px dashed gray;margin: 0 0.4em 0.5em 0.4em;box-sizing: border-box;padding-bottom: 0.4em;background-color: white;}#sk-container-id-4 div.sk-label label {font-family: monospace;font-weight: bold;display: inline-block;line-height: 1.2em;}#sk-container-id-4 div.sk-label-container {text-align: center;}#sk-container-id-4 div.sk-container {/* jupyter's `normalize.less` sets `[hidden] { display: none; }` but bootstrap.min.css set `[hidden] { display: none !important; }` so we also need the `!important` here to be able to override the default hidden behavior on the sphinx rendered scikit-learn.org. See: https://github.com/scikit-learn/scikit-learn/issues/21755 */display: inline-block !important;position: relative;}#sk-container-id-4 div.sk-text-repr-fallback {display: none;}</style><div id=\"sk-container-id-4\" class=\"sk-top-container\"><div class=\"sk-text-repr-fallback\"><pre>LGBMClassifier(max_depth=6, objective=&#x27;multiclass&#x27;)</pre><b>In a Jupyter environment, please rerun this cell to show the HTML representation or trust the notebook. <br />On GitHub, the HTML representation is unable to render, please try loading this page with nbviewer.org.</b></div><div class=\"sk-container\" hidden><div class=\"sk-item\"><div class=\"sk-estimator sk-toggleable\"><input class=\"sk-toggleable__control sk-hidden--visually\" id=\"sk-estimator-id-4\" type=\"checkbox\" checked><label for=\"sk-estimator-id-4\" class=\"sk-toggleable__label sk-toggleable__label-arrow\">LGBMClassifier</label><div class=\"sk-toggleable__content\"><pre>LGBMClassifier(max_depth=6, objective=&#x27;multiclass&#x27;)</pre></div></div></div></div></div>"
      ],
      "text/plain": [
       "LGBMClassifier(max_depth=6, objective='multiclass')"
      ]
     },
     "execution_count": 45,
     "metadata": {},
     "output_type": "execute_result"
    }
   ],
   "source": [
    "light_model.fit (X_smt, y_smt)"
   ]
  },
  {
   "cell_type": "code",
   "execution_count": 46,
   "metadata": {},
   "outputs": [
    {
     "name": "stdout",
     "output_type": "stream",
     "text": [
      "[LightGBM] [Warning] Accuracy may be bad since you didn't explicitly set num_leaves OR 2^max_depth > num_leaves. (num_leaves=31).\n"
     ]
    }
   ],
   "source": [
    "light_pred = light_model.predict(poker_testip)"
   ]
  },
  {
   "cell_type": "code",
   "execution_count": 47,
   "metadata": {},
   "outputs": [
    {
     "name": "stdout",
     "output_type": "stream",
     "text": [
      "Classification Report:\n",
      "               precision    recall  f1-score   support\n",
      "\n",
      "           0       0.80      0.69      0.74    583882\n",
      "           1       0.57      0.61      0.59    392553\n",
      "           2       0.04      0.30      0.07      6355\n",
      "           3       0.05      0.36      0.08      2725\n",
      "           4       0.02      0.08      0.03       822\n",
      "           5       0.18      0.11      0.13      3420\n",
      "           6       0.00      0.01      0.01       917\n",
      "           7       0.01      0.00      0.00      4557\n",
      "           8       0.17      0.00      0.00      4263\n",
      "           9       0.00      0.00      0.00       506\n",
      "\n",
      "    accuracy                           0.64   1000000\n",
      "   macro avg       0.18      0.22      0.16   1000000\n",
      "weighted avg       0.69      0.64      0.66   1000000\n",
      "\n",
      "Confusion Matrix:\n",
      " [[401289 172996   6074   2015    102   1397      7      1      1      0]\n",
      " [ 93532 238716  38186  17189   3504    184   1089    147      5      1]\n",
      " [   442   3336   1910    463     15      0    172     17      0      0]\n",
      " [    76    995    494    985      5      0    113     57      0      0]\n",
      " [   120    459    109     60     66      0      6      1      1      0]\n",
      " [  1745   1171     89     25     19    364      2      0      3      2]\n",
      " [   367    430     61     47      0      3      7      2      0      0]\n",
      " [  1876   2078    363    175     38     10     14      3      0      0]\n",
      " [  1505   2110    313    149    132     37     13      2      2      0]\n",
      " [   257    207     23     13      4      1      1      0      0      0]]\n"
     ]
    }
   ],
   "source": [
    "report = classification_report(light_pred, poker_testop)\n",
    "confusion = confusion_matrix(light_pred, poker_testop)\n",
    "print(\"Classification Report:\\n\", report)\n",
    "print(\"Confusion Matrix:\\n\", confusion)"
   ]
  },
  {
   "cell_type": "code",
   "execution_count": 48,
   "metadata": {},
   "outputs": [
    {
     "name": "stdout",
     "output_type": "stream",
     "text": [
      "0:\tlearn: 1.9099048\ttotal: 30.6ms\tremaining: 3.03s\n",
      "1:\tlearn: 1.6895729\ttotal: 58.8ms\tremaining: 2.88s\n",
      "2:\tlearn: 1.5133247\ttotal: 85.8ms\tremaining: 2.77s\n",
      "3:\tlearn: 1.3832167\ttotal: 112ms\tremaining: 2.68s\n",
      "4:\tlearn: 1.2823047\ttotal: 137ms\tremaining: 2.6s\n",
      "5:\tlearn: 1.1978242\ttotal: 161ms\tremaining: 2.51s\n",
      "6:\tlearn: 1.1294876\ttotal: 188ms\tremaining: 2.5s\n",
      "7:\tlearn: 1.0721576\ttotal: 212ms\tremaining: 2.44s\n",
      "8:\tlearn: 1.0239762\ttotal: 237ms\tremaining: 2.4s\n",
      "9:\tlearn: 0.9830656\ttotal: 261ms\tremaining: 2.35s\n",
      "10:\tlearn: 0.9472849\ttotal: 286ms\tremaining: 2.31s\n",
      "11:\tlearn: 0.9168284\ttotal: 309ms\tremaining: 2.27s\n",
      "12:\tlearn: 0.8904050\ttotal: 332ms\tremaining: 2.22s\n",
      "13:\tlearn: 0.8645141\ttotal: 353ms\tremaining: 2.17s\n",
      "14:\tlearn: 0.8435701\ttotal: 377ms\tremaining: 2.13s\n",
      "15:\tlearn: 0.8228633\ttotal: 399ms\tremaining: 2.1s\n",
      "16:\tlearn: 0.8030751\ttotal: 424ms\tremaining: 2.07s\n",
      "17:\tlearn: 0.7883997\ttotal: 448ms\tremaining: 2.04s\n",
      "18:\tlearn: 0.7732908\ttotal: 472ms\tremaining: 2.01s\n",
      "19:\tlearn: 0.7594444\ttotal: 497ms\tremaining: 1.99s\n",
      "20:\tlearn: 0.7461850\ttotal: 518ms\tremaining: 1.95s\n",
      "21:\tlearn: 0.7355241\ttotal: 539ms\tremaining: 1.91s\n",
      "22:\tlearn: 0.7252921\ttotal: 562ms\tremaining: 1.88s\n",
      "23:\tlearn: 0.7160419\ttotal: 583ms\tremaining: 1.84s\n",
      "24:\tlearn: 0.7092470\ttotal: 604ms\tremaining: 1.81s\n",
      "25:\tlearn: 0.7020414\ttotal: 626ms\tremaining: 1.78s\n",
      "26:\tlearn: 0.6952811\ttotal: 647ms\tremaining: 1.75s\n",
      "27:\tlearn: 0.6895249\ttotal: 670ms\tremaining: 1.72s\n",
      "28:\tlearn: 0.6814340\ttotal: 695ms\tremaining: 1.7s\n",
      "29:\tlearn: 0.6760318\ttotal: 718ms\tremaining: 1.67s\n",
      "30:\tlearn: 0.6694066\ttotal: 742ms\tremaining: 1.65s\n",
      "31:\tlearn: 0.6640895\ttotal: 768ms\tremaining: 1.63s\n",
      "32:\tlearn: 0.6597014\ttotal: 793ms\tremaining: 1.61s\n",
      "33:\tlearn: 0.6554221\ttotal: 824ms\tremaining: 1.6s\n",
      "34:\tlearn: 0.6492178\ttotal: 850ms\tremaining: 1.58s\n",
      "35:\tlearn: 0.6424969\ttotal: 875ms\tremaining: 1.55s\n",
      "36:\tlearn: 0.6380476\ttotal: 901ms\tremaining: 1.53s\n",
      "37:\tlearn: 0.6351259\ttotal: 928ms\tremaining: 1.51s\n",
      "38:\tlearn: 0.6300158\ttotal: 958ms\tremaining: 1.5s\n",
      "39:\tlearn: 0.6255662\ttotal: 985ms\tremaining: 1.48s\n",
      "40:\tlearn: 0.6226393\ttotal: 1.01s\tremaining: 1.46s\n",
      "41:\tlearn: 0.6181186\ttotal: 1.04s\tremaining: 1.43s\n",
      "42:\tlearn: 0.6155045\ttotal: 1.06s\tremaining: 1.41s\n",
      "43:\tlearn: 0.6121156\ttotal: 1.09s\tremaining: 1.39s\n",
      "44:\tlearn: 0.6099023\ttotal: 1.11s\tremaining: 1.36s\n",
      "45:\tlearn: 0.6082866\ttotal: 1.13s\tremaining: 1.33s\n",
      "46:\tlearn: 0.6060235\ttotal: 1.16s\tremaining: 1.31s\n",
      "47:\tlearn: 0.6038311\ttotal: 1.18s\tremaining: 1.28s\n",
      "48:\tlearn: 0.6017666\ttotal: 1.2s\tremaining: 1.25s\n",
      "49:\tlearn: 0.6001957\ttotal: 1.22s\tremaining: 1.22s\n",
      "50:\tlearn: 0.5981494\ttotal: 1.25s\tremaining: 1.2s\n",
      "51:\tlearn: 0.5966032\ttotal: 1.27s\tremaining: 1.17s\n",
      "52:\tlearn: 0.5952054\ttotal: 1.29s\tremaining: 1.14s\n",
      "53:\tlearn: 0.5920313\ttotal: 1.31s\tremaining: 1.12s\n",
      "54:\tlearn: 0.5899067\ttotal: 1.34s\tremaining: 1.09s\n",
      "55:\tlearn: 0.5872540\ttotal: 1.36s\tremaining: 1.07s\n",
      "56:\tlearn: 0.5848373\ttotal: 1.39s\tremaining: 1.05s\n",
      "57:\tlearn: 0.5832654\ttotal: 1.41s\tremaining: 1.02s\n",
      "58:\tlearn: 0.5823465\ttotal: 1.44s\tremaining: 1000ms\n",
      "59:\tlearn: 0.5812620\ttotal: 1.46s\tremaining: 974ms\n",
      "60:\tlearn: 0.5795201\ttotal: 1.48s\tremaining: 948ms\n",
      "61:\tlearn: 0.5774343\ttotal: 1.5s\tremaining: 922ms\n",
      "62:\tlearn: 0.5756602\ttotal: 1.53s\tremaining: 897ms\n",
      "63:\tlearn: 0.5740660\ttotal: 1.55s\tremaining: 871ms\n",
      "64:\tlearn: 0.5729076\ttotal: 1.57s\tremaining: 847ms\n",
      "65:\tlearn: 0.5710460\ttotal: 1.59s\tremaining: 821ms\n",
      "66:\tlearn: 0.5696038\ttotal: 1.62s\tremaining: 796ms\n",
      "67:\tlearn: 0.5684333\ttotal: 1.64s\tremaining: 772ms\n",
      "68:\tlearn: 0.5671178\ttotal: 1.66s\tremaining: 747ms\n",
      "69:\tlearn: 0.5659222\ttotal: 1.69s\tremaining: 722ms\n",
      "70:\tlearn: 0.5649862\ttotal: 1.71s\tremaining: 698ms\n",
      "71:\tlearn: 0.5639035\ttotal: 1.73s\tremaining: 672ms\n",
      "72:\tlearn: 0.5630021\ttotal: 1.75s\tremaining: 647ms\n",
      "73:\tlearn: 0.5623580\ttotal: 1.77s\tremaining: 623ms\n",
      "74:\tlearn: 0.5617188\ttotal: 1.79s\tremaining: 598ms\n",
      "75:\tlearn: 0.5604865\ttotal: 1.82s\tremaining: 574ms\n",
      "76:\tlearn: 0.5596870\ttotal: 1.84s\tremaining: 549ms\n",
      "77:\tlearn: 0.5589019\ttotal: 1.86s\tremaining: 525ms\n",
      "78:\tlearn: 0.5565550\ttotal: 1.88s\tremaining: 501ms\n",
      "79:\tlearn: 0.5558404\ttotal: 1.91s\tremaining: 478ms\n",
      "80:\tlearn: 0.5536679\ttotal: 1.94s\tremaining: 455ms\n",
      "81:\tlearn: 0.5517290\ttotal: 1.96s\tremaining: 431ms\n",
      "82:\tlearn: 0.5506417\ttotal: 1.99s\tremaining: 407ms\n",
      "83:\tlearn: 0.5498297\ttotal: 2.01s\tremaining: 382ms\n",
      "84:\tlearn: 0.5490745\ttotal: 2.03s\tremaining: 359ms\n",
      "85:\tlearn: 0.5481370\ttotal: 2.06s\tremaining: 335ms\n",
      "86:\tlearn: 0.5472765\ttotal: 2.08s\tremaining: 310ms\n",
      "87:\tlearn: 0.5463820\ttotal: 2.1s\tremaining: 286ms\n",
      "88:\tlearn: 0.5458764\ttotal: 2.13s\tremaining: 263ms\n",
      "89:\tlearn: 0.5452042\ttotal: 2.15s\tremaining: 239ms\n",
      "90:\tlearn: 0.5444066\ttotal: 2.17s\tremaining: 215ms\n",
      "91:\tlearn: 0.5439147\ttotal: 2.19s\tremaining: 191ms\n",
      "92:\tlearn: 0.5432051\ttotal: 2.22s\tremaining: 167ms\n",
      "93:\tlearn: 0.5422725\ttotal: 2.24s\tremaining: 143ms\n",
      "94:\tlearn: 0.5416486\ttotal: 2.26s\tremaining: 119ms\n",
      "95:\tlearn: 0.5409887\ttotal: 2.28s\tremaining: 95ms\n",
      "96:\tlearn: 0.5402793\ttotal: 2.3s\tremaining: 71.2ms\n",
      "97:\tlearn: 0.5395514\ttotal: 2.32s\tremaining: 47.4ms\n",
      "98:\tlearn: 0.5385613\ttotal: 2.35s\tremaining: 23.7ms\n",
      "99:\tlearn: 0.5378956\ttotal: 2.38s\tremaining: 0us\n"
     ]
    },
    {
     "data": {
      "text/plain": [
       "<catboost.core.CatBoostClassifier at 0x287870d4b90>"
      ]
     },
     "execution_count": 48,
     "metadata": {},
     "output_type": "execute_result"
    }
   ],
   "source": [
    "cat_model.fit (X_smt, y_smt, cat_features=cat_features)"
   ]
  },
  {
   "cell_type": "code",
   "execution_count": 49,
   "metadata": {},
   "outputs": [],
   "source": [
    "cat_pred = cat_model.predict(poker_testip)"
   ]
  },
  {
   "cell_type": "code",
   "execution_count": 50,
   "metadata": {},
   "outputs": [
    {
     "name": "stderr",
     "output_type": "stream",
     "text": [
      "C:\\Users\\arvin\\AppData\\Local\\Packages\\PythonSoftwareFoundation.Python.3.11_qbz5n2kfra8p0\\LocalCache\\local-packages\\Python311\\site-packages\\sklearn\\metrics\\_classification.py:1469: UndefinedMetricWarning: Recall and F-score are ill-defined and being set to 0.0 in labels with no true samples. Use `zero_division` parameter to control this behavior.\n",
      "  _warn_prf(average, modifier, msg_start, len(result))\n",
      "C:\\Users\\arvin\\AppData\\Local\\Packages\\PythonSoftwareFoundation.Python.3.11_qbz5n2kfra8p0\\LocalCache\\local-packages\\Python311\\site-packages\\sklearn\\metrics\\_classification.py:1469: UndefinedMetricWarning: Recall and F-score are ill-defined and being set to 0.0 in labels with no true samples. Use `zero_division` parameter to control this behavior.\n",
      "  _warn_prf(average, modifier, msg_start, len(result))\n"
     ]
    },
    {
     "name": "stdout",
     "output_type": "stream",
     "text": [
      "Classification Report:\n",
      "               precision    recall  f1-score   support\n",
      "\n",
      "           0       0.82      0.64      0.72    639511\n",
      "           1       0.50      0.59      0.54    356795\n",
      "           2       0.01      0.63      0.01       558\n",
      "           3       0.02      0.85      0.03       385\n",
      "           4       0.00      0.00      0.00         0\n",
      "           5       0.00      0.00      0.00         0\n",
      "           6       0.00      0.00      0.00         0\n",
      "           7       0.00      0.00      0.00         0\n",
      "           8       0.25      0.00      0.00      2751\n",
      "           9       0.00      0.00      0.00         0\n",
      "\n",
      "    accuracy                           0.62   1000000\n",
      "   macro avg       0.16      0.27      0.13   1000000\n",
      "weighted avg       0.70      0.62      0.65   1000000\n",
      "\n",
      "Confusion Matrix:\n",
      " [[410852 209957  11878   4696    241   1800     77      7      0      3]\n",
      " [ 89517 211012  35141  15996   3531    112   1270    207      9      0]\n",
      " [     0    130    351     36      0      0     32      9      0      0]\n",
      " [     0      2      6    328      0      0     42      7      0      0]\n",
      " [     0      0      0      0      0      0      0      0      0      0]\n",
      " [     0      0      0      0      0      0      0      0      0      0]\n",
      " [     0      0      0      0      0      0      0      0      0      0]\n",
      " [     0      0      0      0      0      0      0      0      0      0]\n",
      " [   840   1397    246     65    113     84      3      0      3      0]\n",
      " [     0      0      0      0      0      0      0      0      0      0]]\n"
     ]
    },
    {
     "name": "stderr",
     "output_type": "stream",
     "text": [
      "C:\\Users\\arvin\\AppData\\Local\\Packages\\PythonSoftwareFoundation.Python.3.11_qbz5n2kfra8p0\\LocalCache\\local-packages\\Python311\\site-packages\\sklearn\\metrics\\_classification.py:1469: UndefinedMetricWarning: Recall and F-score are ill-defined and being set to 0.0 in labels with no true samples. Use `zero_division` parameter to control this behavior.\n",
      "  _warn_prf(average, modifier, msg_start, len(result))\n"
     ]
    }
   ],
   "source": [
    "report = classification_report(cat_pred, poker_testop)\n",
    "confusion = confusion_matrix(cat_pred, poker_testop)\n",
    "print(\"Classification Report:\\n\", report)\n",
    "print(\"Confusion Matrix:\\n\", confusion)"
   ]
  },
  {
   "cell_type": "markdown",
   "metadata": {},
   "source": [
    "Conclusion\n",
    "\n",
    "Without Sampling-\n",
    "CatBoost- F1=81%, Acc=73%\n",
    "LightBoost- f1=70%, Acc=60%\n",
    "\n",
    "With SMOTE-\n",
    "CatBoost- F1=79%, Acc=70%\n",
    "LightBoost- f1=67%, Acc=57%"
   ]
  }
 ],
 "metadata": {
  "kernelspec": {
   "display_name": "Python 3",
   "language": "python",
   "name": "python3"
  },
  "language_info": {
   "codemirror_mode": {
    "name": "ipython",
    "version": 3
   },
   "file_extension": ".py",
   "mimetype": "text/x-python",
   "name": "python",
   "nbconvert_exporter": "python",
   "pygments_lexer": "ipython3",
   "version": "3.11.4"
  },
  "orig_nbformat": 4
 },
 "nbformat": 4,
 "nbformat_minor": 2
}
